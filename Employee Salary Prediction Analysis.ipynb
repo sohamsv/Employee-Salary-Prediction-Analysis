{
 "cells": [
  {
   "cell_type": "raw",
   "id": "440539bb",
   "metadata": {},
   "source": [
    "Importing the libraries\n",
    "importing the dataset\n",
    "data cleaning\n",
    "Exploratory data analysis\n",
    "data pre processing ( data normalization, encoding,etc)\n",
    "feature engineering\n",
    "model building\n",
    "model evaluation"
   ]
  },
  {
   "cell_type": "markdown",
   "id": "0be07516",
   "metadata": {},
   "source": [
    "# Importing Libraries"
   ]
  },
  {
   "cell_type": "code",
   "execution_count": 1,
   "id": "8c3d6040",
   "metadata": {},
   "outputs": [],
   "source": [
    "import pandas as pd\n",
    "import numpy as np\n",
    "import matplotlib.pyplot as plt\n",
    "import seaborn as sns"
   ]
  },
  {
   "cell_type": "markdown",
   "id": "f6099d8d",
   "metadata": {},
   "source": [
    "# Importing Dataset"
   ]
  },
  {
   "cell_type": "code",
   "execution_count": 2,
   "id": "b578e80d",
   "metadata": {},
   "outputs": [],
   "source": [
    "df = pd.read_csv('train-salary.csv')"
   ]
  },
  {
   "cell_type": "code",
   "execution_count": 3,
   "id": "b3d38df6",
   "metadata": {},
   "outputs": [
    {
     "data": {
      "text/html": [
       "<div>\n",
       "<style scoped>\n",
       "    .dataframe tbody tr th:only-of-type {\n",
       "        vertical-align: middle;\n",
       "    }\n",
       "\n",
       "    .dataframe tbody tr th {\n",
       "        vertical-align: top;\n",
       "    }\n",
       "\n",
       "    .dataframe thead th {\n",
       "        text-align: right;\n",
       "    }\n",
       "</style>\n",
       "<table border=\"1\" class=\"dataframe\">\n",
       "  <thead>\n",
       "    <tr style=\"text-align: right;\">\n",
       "      <th></th>\n",
       "      <th>Name</th>\n",
       "      <th>JobTitle</th>\n",
       "      <th>AgencyID</th>\n",
       "      <th>Agency</th>\n",
       "      <th>HireDate</th>\n",
       "      <th>AnnualSalary</th>\n",
       "      <th>GrossPay</th>\n",
       "    </tr>\n",
       "  </thead>\n",
       "  <tbody>\n",
       "    <tr>\n",
       "      <th>0</th>\n",
       "      <td>Aaron,Keontae E</td>\n",
       "      <td>AIDE BLUE CHIP</td>\n",
       "      <td>W02200</td>\n",
       "      <td>Youth Summer</td>\n",
       "      <td>06/10/2013</td>\n",
       "      <td>$11310.00</td>\n",
       "      <td>$873.63</td>\n",
       "    </tr>\n",
       "    <tr>\n",
       "      <th>1</th>\n",
       "      <td>Aaron,Patricia G</td>\n",
       "      <td>Facilities/Office Services II</td>\n",
       "      <td>A03031</td>\n",
       "      <td>OED-Employment Dev</td>\n",
       "      <td>10/24/1979</td>\n",
       "      <td>$53428.00</td>\n",
       "      <td>$52868.38</td>\n",
       "    </tr>\n",
       "    <tr>\n",
       "      <th>2</th>\n",
       "      <td>Aaron,Petra L</td>\n",
       "      <td>ASSISTANT STATE'S ATTORNEY</td>\n",
       "      <td>A29005</td>\n",
       "      <td>States Attorneys Office</td>\n",
       "      <td>09/25/2006</td>\n",
       "      <td>$68300.00</td>\n",
       "      <td>$67439.19</td>\n",
       "    </tr>\n",
       "    <tr>\n",
       "      <th>3</th>\n",
       "      <td>Abaineh,Yohannes T</td>\n",
       "      <td>EPIDEMIOLOGIST</td>\n",
       "      <td>A65026</td>\n",
       "      <td>HLTH-Health Department</td>\n",
       "      <td>07/23/2009</td>\n",
       "      <td>$62000.00</td>\n",
       "      <td>$58654.74</td>\n",
       "    </tr>\n",
       "    <tr>\n",
       "      <th>4</th>\n",
       "      <td>Abbene,Anthony M</td>\n",
       "      <td>POLICE OFFICER TRAINEE</td>\n",
       "      <td>A99416</td>\n",
       "      <td>Police Department</td>\n",
       "      <td>07/24/2013</td>\n",
       "      <td>$43999.00</td>\n",
       "      <td>$39686.95</td>\n",
       "    </tr>\n",
       "    <tr>\n",
       "      <th>...</th>\n",
       "      <td>...</td>\n",
       "      <td>...</td>\n",
       "      <td>...</td>\n",
       "      <td>...</td>\n",
       "      <td>...</td>\n",
       "      <td>...</td>\n",
       "      <td>...</td>\n",
       "    </tr>\n",
       "    <tr>\n",
       "      <th>18976</th>\n",
       "      <td>Zotamou,Jean Marie D</td>\n",
       "      <td>AIDE BLUE CHIP</td>\n",
       "      <td>W02235</td>\n",
       "      <td>Youth Summer</td>\n",
       "      <td>05/21/2014</td>\n",
       "      <td>$11310.00</td>\n",
       "      <td>NaN</td>\n",
       "    </tr>\n",
       "    <tr>\n",
       "      <th>18977</th>\n",
       "      <td>Zotamou,Pivot D</td>\n",
       "      <td>AIDE BLUE CHIP</td>\n",
       "      <td>W02629</td>\n",
       "      <td>Youth Summer</td>\n",
       "      <td>05/21/2014</td>\n",
       "      <td>$11310.00</td>\n",
       "      <td>NaN</td>\n",
       "    </tr>\n",
       "    <tr>\n",
       "      <th>18978</th>\n",
       "      <td>Zovistoski,Zachary D</td>\n",
       "      <td>POLICE OFFICER TRAINEE</td>\n",
       "      <td>A99416</td>\n",
       "      <td>Police Department</td>\n",
       "      <td>12/17/2013</td>\n",
       "      <td>$43999.00</td>\n",
       "      <td>$21070.03</td>\n",
       "    </tr>\n",
       "    <tr>\n",
       "      <th>18979</th>\n",
       "      <td>Zubyk,Stanislav T</td>\n",
       "      <td>POLICE OFFICER</td>\n",
       "      <td>A99262</td>\n",
       "      <td>Police Department</td>\n",
       "      <td>01/23/2013</td>\n",
       "      <td>$44104.00</td>\n",
       "      <td>$48608.12</td>\n",
       "    </tr>\n",
       "    <tr>\n",
       "      <th>18980</th>\n",
       "      <td>Zukowski,Charles J</td>\n",
       "      <td>Waste Water Tech Supv I Pump</td>\n",
       "      <td>A50206</td>\n",
       "      <td>DPW-Water &amp; Waste Water</td>\n",
       "      <td>10/15/1979</td>\n",
       "      <td>$53568.00</td>\n",
       "      <td>$52164.32</td>\n",
       "    </tr>\n",
       "  </tbody>\n",
       "</table>\n",
       "<p>18981 rows × 7 columns</p>\n",
       "</div>"
      ],
      "text/plain": [
       "                       Name                       JobTitle AgencyID  \\\n",
       "0           Aaron,Keontae E                 AIDE BLUE CHIP   W02200   \n",
       "1          Aaron,Patricia G  Facilities/Office Services II   A03031   \n",
       "2             Aaron,Petra L     ASSISTANT STATE'S ATTORNEY   A29005   \n",
       "3        Abaineh,Yohannes T                 EPIDEMIOLOGIST   A65026   \n",
       "4          Abbene,Anthony M         POLICE OFFICER TRAINEE   A99416   \n",
       "...                     ...                            ...      ...   \n",
       "18976  Zotamou,Jean Marie D                 AIDE BLUE CHIP   W02235   \n",
       "18977       Zotamou,Pivot D                 AIDE BLUE CHIP   W02629   \n",
       "18978  Zovistoski,Zachary D         POLICE OFFICER TRAINEE   A99416   \n",
       "18979     Zubyk,Stanislav T                 POLICE OFFICER   A99262   \n",
       "18980    Zukowski,Charles J   Waste Water Tech Supv I Pump   A50206   \n",
       "\n",
       "                         Agency    HireDate AnnualSalary   GrossPay  \n",
       "0                Youth Summer    06/10/2013    $11310.00    $873.63  \n",
       "1           OED-Employment Dev   10/24/1979    $53428.00  $52868.38  \n",
       "2      States Attorneys Office   09/25/2006    $68300.00  $67439.19  \n",
       "3       HLTH-Health Department   07/23/2009    $62000.00  $58654.74  \n",
       "4            Police Department   07/24/2013    $43999.00  $39686.95  \n",
       "...                         ...         ...          ...        ...  \n",
       "18976            Youth Summer    05/21/2014    $11310.00        NaN  \n",
       "18977             Youth Summer   05/21/2014    $11310.00        NaN  \n",
       "18978        Police Department   12/17/2013    $43999.00  $21070.03  \n",
       "18979        Police Department   01/23/2013    $44104.00  $48608.12  \n",
       "18980  DPW-Water & Waste Water   10/15/1979    $53568.00  $52164.32  \n",
       "\n",
       "[18981 rows x 7 columns]"
      ]
     },
     "execution_count": 3,
     "metadata": {},
     "output_type": "execute_result"
    }
   ],
   "source": [
    "df"
   ]
  },
  {
   "cell_type": "code",
   "execution_count": 4,
   "id": "e521b14a",
   "metadata": {},
   "outputs": [
    {
     "name": "stdout",
     "output_type": "stream",
     "text": [
      "<class 'pandas.core.frame.DataFrame'>\n",
      "RangeIndex: 18981 entries, 0 to 18980\n",
      "Data columns (total 7 columns):\n",
      " #   Column        Non-Null Count  Dtype \n",
      "---  ------        --------------  ----- \n",
      " 0    Name         18981 non-null  object\n",
      " 1   JobTitle      18981 non-null  object\n",
      " 2   AgencyID      18981 non-null  object\n",
      " 3   Agency        18981 non-null  object\n",
      " 4   HireDate      18911 non-null  object\n",
      " 5   AnnualSalary  18981 non-null  object\n",
      " 6   GrossPay      15758 non-null  object\n",
      "dtypes: object(7)\n",
      "memory usage: 1.0+ MB\n"
     ]
    }
   ],
   "source": [
    "df.info()"
   ]
  },
  {
   "cell_type": "markdown",
   "id": "ec78c506",
   "metadata": {},
   "source": [
    "# Data cleaning"
   ]
  },
  {
   "cell_type": "code",
   "execution_count": 5,
   "id": "17cf0fdc",
   "metadata": {},
   "outputs": [],
   "source": [
    "salary = df.copy()"
   ]
  },
  {
   "cell_type": "code",
   "execution_count": 6,
   "id": "7ff288b5",
   "metadata": {},
   "outputs": [
    {
     "data": {
      "text/plain": [
       "Index([' Name', 'JobTitle', 'AgencyID', 'Agency', 'HireDate', 'AnnualSalary',\n",
       "       'GrossPay'],\n",
       "      dtype='object')"
      ]
     },
     "execution_count": 6,
     "metadata": {},
     "output_type": "execute_result"
    }
   ],
   "source": [
    "salary.columns"
   ]
  },
  {
   "cell_type": "code",
   "execution_count": 7,
   "id": "c2e779d8",
   "metadata": {},
   "outputs": [],
   "source": [
    "salary.columns = salary.columns.str.strip()"
   ]
  },
  {
   "cell_type": "code",
   "execution_count": 8,
   "id": "4ca3ab87",
   "metadata": {},
   "outputs": [
    {
     "data": {
      "text/plain": [
       "Index(['Name', 'JobTitle', 'AgencyID', 'Agency', 'HireDate', 'AnnualSalary',\n",
       "       'GrossPay'],\n",
       "      dtype='object')"
      ]
     },
     "execution_count": 8,
     "metadata": {},
     "output_type": "execute_result"
    }
   ],
   "source": [
    "salary.columns"
   ]
  },
  {
   "cell_type": "code",
   "execution_count": 9,
   "id": "5e3f6ae9",
   "metadata": {},
   "outputs": [
    {
     "data": {
      "text/plain": [
       "Name               0\n",
       "JobTitle           0\n",
       "AgencyID           0\n",
       "Agency             0\n",
       "HireDate          70\n",
       "AnnualSalary       0\n",
       "GrossPay        3223\n",
       "dtype: int64"
      ]
     },
     "execution_count": 9,
     "metadata": {},
     "output_type": "execute_result"
    }
   ],
   "source": [
    "salary.isnull().sum()"
   ]
  },
  {
   "cell_type": "code",
   "execution_count": 10,
   "id": "fc3a2b23",
   "metadata": {},
   "outputs": [
    {
     "data": {
      "text/plain": [
       "(18981, 7)"
      ]
     },
     "execution_count": 10,
     "metadata": {},
     "output_type": "execute_result"
    }
   ],
   "source": [
    "salary.shape"
   ]
  },
  {
   "cell_type": "code",
   "execution_count": 11,
   "id": "8e6c144c",
   "metadata": {},
   "outputs": [],
   "source": [
    "salary = salary.drop(['GrossPay'],axis=1)"
   ]
  },
  {
   "cell_type": "code",
   "execution_count": 12,
   "id": "371a9d47",
   "metadata": {},
   "outputs": [
    {
     "data": {
      "text/html": [
       "<div>\n",
       "<style scoped>\n",
       "    .dataframe tbody tr th:only-of-type {\n",
       "        vertical-align: middle;\n",
       "    }\n",
       "\n",
       "    .dataframe tbody tr th {\n",
       "        vertical-align: top;\n",
       "    }\n",
       "\n",
       "    .dataframe thead th {\n",
       "        text-align: right;\n",
       "    }\n",
       "</style>\n",
       "<table border=\"1\" class=\"dataframe\">\n",
       "  <thead>\n",
       "    <tr style=\"text-align: right;\">\n",
       "      <th></th>\n",
       "      <th>Name</th>\n",
       "      <th>JobTitle</th>\n",
       "      <th>AgencyID</th>\n",
       "      <th>Agency</th>\n",
       "      <th>HireDate</th>\n",
       "      <th>AnnualSalary</th>\n",
       "    </tr>\n",
       "  </thead>\n",
       "  <tbody>\n",
       "    <tr>\n",
       "      <th>0</th>\n",
       "      <td>Aaron,Keontae E</td>\n",
       "      <td>AIDE BLUE CHIP</td>\n",
       "      <td>W02200</td>\n",
       "      <td>Youth Summer</td>\n",
       "      <td>06/10/2013</td>\n",
       "      <td>$11310.00</td>\n",
       "    </tr>\n",
       "    <tr>\n",
       "      <th>1</th>\n",
       "      <td>Aaron,Patricia G</td>\n",
       "      <td>Facilities/Office Services II</td>\n",
       "      <td>A03031</td>\n",
       "      <td>OED-Employment Dev</td>\n",
       "      <td>10/24/1979</td>\n",
       "      <td>$53428.00</td>\n",
       "    </tr>\n",
       "    <tr>\n",
       "      <th>2</th>\n",
       "      <td>Aaron,Petra L</td>\n",
       "      <td>ASSISTANT STATE'S ATTORNEY</td>\n",
       "      <td>A29005</td>\n",
       "      <td>States Attorneys Office</td>\n",
       "      <td>09/25/2006</td>\n",
       "      <td>$68300.00</td>\n",
       "    </tr>\n",
       "    <tr>\n",
       "      <th>3</th>\n",
       "      <td>Abaineh,Yohannes T</td>\n",
       "      <td>EPIDEMIOLOGIST</td>\n",
       "      <td>A65026</td>\n",
       "      <td>HLTH-Health Department</td>\n",
       "      <td>07/23/2009</td>\n",
       "      <td>$62000.00</td>\n",
       "    </tr>\n",
       "    <tr>\n",
       "      <th>4</th>\n",
       "      <td>Abbene,Anthony M</td>\n",
       "      <td>POLICE OFFICER TRAINEE</td>\n",
       "      <td>A99416</td>\n",
       "      <td>Police Department</td>\n",
       "      <td>07/24/2013</td>\n",
       "      <td>$43999.00</td>\n",
       "    </tr>\n",
       "    <tr>\n",
       "      <th>...</th>\n",
       "      <td>...</td>\n",
       "      <td>...</td>\n",
       "      <td>...</td>\n",
       "      <td>...</td>\n",
       "      <td>...</td>\n",
       "      <td>...</td>\n",
       "    </tr>\n",
       "    <tr>\n",
       "      <th>18976</th>\n",
       "      <td>Zotamou,Jean Marie D</td>\n",
       "      <td>AIDE BLUE CHIP</td>\n",
       "      <td>W02235</td>\n",
       "      <td>Youth Summer</td>\n",
       "      <td>05/21/2014</td>\n",
       "      <td>$11310.00</td>\n",
       "    </tr>\n",
       "    <tr>\n",
       "      <th>18977</th>\n",
       "      <td>Zotamou,Pivot D</td>\n",
       "      <td>AIDE BLUE CHIP</td>\n",
       "      <td>W02629</td>\n",
       "      <td>Youth Summer</td>\n",
       "      <td>05/21/2014</td>\n",
       "      <td>$11310.00</td>\n",
       "    </tr>\n",
       "    <tr>\n",
       "      <th>18978</th>\n",
       "      <td>Zovistoski,Zachary D</td>\n",
       "      <td>POLICE OFFICER TRAINEE</td>\n",
       "      <td>A99416</td>\n",
       "      <td>Police Department</td>\n",
       "      <td>12/17/2013</td>\n",
       "      <td>$43999.00</td>\n",
       "    </tr>\n",
       "    <tr>\n",
       "      <th>18979</th>\n",
       "      <td>Zubyk,Stanislav T</td>\n",
       "      <td>POLICE OFFICER</td>\n",
       "      <td>A99262</td>\n",
       "      <td>Police Department</td>\n",
       "      <td>01/23/2013</td>\n",
       "      <td>$44104.00</td>\n",
       "    </tr>\n",
       "    <tr>\n",
       "      <th>18980</th>\n",
       "      <td>Zukowski,Charles J</td>\n",
       "      <td>Waste Water Tech Supv I Pump</td>\n",
       "      <td>A50206</td>\n",
       "      <td>DPW-Water &amp; Waste Water</td>\n",
       "      <td>10/15/1979</td>\n",
       "      <td>$53568.00</td>\n",
       "    </tr>\n",
       "  </tbody>\n",
       "</table>\n",
       "<p>18981 rows × 6 columns</p>\n",
       "</div>"
      ],
      "text/plain": [
       "                       Name                       JobTitle AgencyID  \\\n",
       "0           Aaron,Keontae E                 AIDE BLUE CHIP   W02200   \n",
       "1          Aaron,Patricia G  Facilities/Office Services II   A03031   \n",
       "2             Aaron,Petra L     ASSISTANT STATE'S ATTORNEY   A29005   \n",
       "3        Abaineh,Yohannes T                 EPIDEMIOLOGIST   A65026   \n",
       "4          Abbene,Anthony M         POLICE OFFICER TRAINEE   A99416   \n",
       "...                     ...                            ...      ...   \n",
       "18976  Zotamou,Jean Marie D                 AIDE BLUE CHIP   W02235   \n",
       "18977       Zotamou,Pivot D                 AIDE BLUE CHIP   W02629   \n",
       "18978  Zovistoski,Zachary D         POLICE OFFICER TRAINEE   A99416   \n",
       "18979     Zubyk,Stanislav T                 POLICE OFFICER   A99262   \n",
       "18980    Zukowski,Charles J   Waste Water Tech Supv I Pump   A50206   \n",
       "\n",
       "                         Agency    HireDate AnnualSalary  \n",
       "0                Youth Summer    06/10/2013    $11310.00  \n",
       "1           OED-Employment Dev   10/24/1979    $53428.00  \n",
       "2      States Attorneys Office   09/25/2006    $68300.00  \n",
       "3       HLTH-Health Department   07/23/2009    $62000.00  \n",
       "4            Police Department   07/24/2013    $43999.00  \n",
       "...                         ...         ...          ...  \n",
       "18976            Youth Summer    05/21/2014    $11310.00  \n",
       "18977             Youth Summer   05/21/2014    $11310.00  \n",
       "18978        Police Department   12/17/2013    $43999.00  \n",
       "18979        Police Department   01/23/2013    $44104.00  \n",
       "18980  DPW-Water & Waste Water   10/15/1979    $53568.00  \n",
       "\n",
       "[18981 rows x 6 columns]"
      ]
     },
     "execution_count": 12,
     "metadata": {},
     "output_type": "execute_result"
    }
   ],
   "source": [
    "salary"
   ]
  },
  {
   "cell_type": "code",
   "execution_count": 13,
   "id": "08ab665c",
   "metadata": {},
   "outputs": [],
   "source": [
    "salary['HireDate'] = salary.groupby('Agency')['HireDate'].ffill()"
   ]
  },
  {
   "cell_type": "code",
   "execution_count": 14,
   "id": "8c3f125b",
   "metadata": {},
   "outputs": [
    {
     "data": {
      "text/plain": [
       "Name            0\n",
       "JobTitle        0\n",
       "AgencyID        0\n",
       "Agency          0\n",
       "HireDate        0\n",
       "AnnualSalary    0\n",
       "dtype: int64"
      ]
     },
     "execution_count": 14,
     "metadata": {},
     "output_type": "execute_result"
    }
   ],
   "source": [
    "salary.isnull().sum()"
   ]
  },
  {
   "cell_type": "code",
   "execution_count": 15,
   "id": "ee33ad3c",
   "metadata": {},
   "outputs": [],
   "source": [
    "salary['AnnualSalary'] = salary['AnnualSalary'].apply(lambda x: float(str(x).replace(\"$\",\"\")))"
   ]
  },
  {
   "cell_type": "code",
   "execution_count": 16,
   "id": "0d607ea4",
   "metadata": {},
   "outputs": [
    {
     "data": {
      "text/html": [
       "<div>\n",
       "<style scoped>\n",
       "    .dataframe tbody tr th:only-of-type {\n",
       "        vertical-align: middle;\n",
       "    }\n",
       "\n",
       "    .dataframe tbody tr th {\n",
       "        vertical-align: top;\n",
       "    }\n",
       "\n",
       "    .dataframe thead th {\n",
       "        text-align: right;\n",
       "    }\n",
       "</style>\n",
       "<table border=\"1\" class=\"dataframe\">\n",
       "  <thead>\n",
       "    <tr style=\"text-align: right;\">\n",
       "      <th></th>\n",
       "      <th>Name</th>\n",
       "      <th>JobTitle</th>\n",
       "      <th>AgencyID</th>\n",
       "      <th>Agency</th>\n",
       "      <th>HireDate</th>\n",
       "      <th>AnnualSalary</th>\n",
       "    </tr>\n",
       "  </thead>\n",
       "  <tbody>\n",
       "    <tr>\n",
       "      <th>0</th>\n",
       "      <td>Aaron,Keontae E</td>\n",
       "      <td>AIDE BLUE CHIP</td>\n",
       "      <td>W02200</td>\n",
       "      <td>Youth Summer</td>\n",
       "      <td>06/10/2013</td>\n",
       "      <td>11310.0</td>\n",
       "    </tr>\n",
       "    <tr>\n",
       "      <th>1</th>\n",
       "      <td>Aaron,Patricia G</td>\n",
       "      <td>Facilities/Office Services II</td>\n",
       "      <td>A03031</td>\n",
       "      <td>OED-Employment Dev</td>\n",
       "      <td>10/24/1979</td>\n",
       "      <td>53428.0</td>\n",
       "    </tr>\n",
       "    <tr>\n",
       "      <th>2</th>\n",
       "      <td>Aaron,Petra L</td>\n",
       "      <td>ASSISTANT STATE'S ATTORNEY</td>\n",
       "      <td>A29005</td>\n",
       "      <td>States Attorneys Office</td>\n",
       "      <td>09/25/2006</td>\n",
       "      <td>68300.0</td>\n",
       "    </tr>\n",
       "    <tr>\n",
       "      <th>3</th>\n",
       "      <td>Abaineh,Yohannes T</td>\n",
       "      <td>EPIDEMIOLOGIST</td>\n",
       "      <td>A65026</td>\n",
       "      <td>HLTH-Health Department</td>\n",
       "      <td>07/23/2009</td>\n",
       "      <td>62000.0</td>\n",
       "    </tr>\n",
       "    <tr>\n",
       "      <th>4</th>\n",
       "      <td>Abbene,Anthony M</td>\n",
       "      <td>POLICE OFFICER TRAINEE</td>\n",
       "      <td>A99416</td>\n",
       "      <td>Police Department</td>\n",
       "      <td>07/24/2013</td>\n",
       "      <td>43999.0</td>\n",
       "    </tr>\n",
       "    <tr>\n",
       "      <th>...</th>\n",
       "      <td>...</td>\n",
       "      <td>...</td>\n",
       "      <td>...</td>\n",
       "      <td>...</td>\n",
       "      <td>...</td>\n",
       "      <td>...</td>\n",
       "    </tr>\n",
       "    <tr>\n",
       "      <th>18976</th>\n",
       "      <td>Zotamou,Jean Marie D</td>\n",
       "      <td>AIDE BLUE CHIP</td>\n",
       "      <td>W02235</td>\n",
       "      <td>Youth Summer</td>\n",
       "      <td>05/21/2014</td>\n",
       "      <td>11310.0</td>\n",
       "    </tr>\n",
       "    <tr>\n",
       "      <th>18977</th>\n",
       "      <td>Zotamou,Pivot D</td>\n",
       "      <td>AIDE BLUE CHIP</td>\n",
       "      <td>W02629</td>\n",
       "      <td>Youth Summer</td>\n",
       "      <td>05/21/2014</td>\n",
       "      <td>11310.0</td>\n",
       "    </tr>\n",
       "    <tr>\n",
       "      <th>18978</th>\n",
       "      <td>Zovistoski,Zachary D</td>\n",
       "      <td>POLICE OFFICER TRAINEE</td>\n",
       "      <td>A99416</td>\n",
       "      <td>Police Department</td>\n",
       "      <td>12/17/2013</td>\n",
       "      <td>43999.0</td>\n",
       "    </tr>\n",
       "    <tr>\n",
       "      <th>18979</th>\n",
       "      <td>Zubyk,Stanislav T</td>\n",
       "      <td>POLICE OFFICER</td>\n",
       "      <td>A99262</td>\n",
       "      <td>Police Department</td>\n",
       "      <td>01/23/2013</td>\n",
       "      <td>44104.0</td>\n",
       "    </tr>\n",
       "    <tr>\n",
       "      <th>18980</th>\n",
       "      <td>Zukowski,Charles J</td>\n",
       "      <td>Waste Water Tech Supv I Pump</td>\n",
       "      <td>A50206</td>\n",
       "      <td>DPW-Water &amp; Waste Water</td>\n",
       "      <td>10/15/1979</td>\n",
       "      <td>53568.0</td>\n",
       "    </tr>\n",
       "  </tbody>\n",
       "</table>\n",
       "<p>18981 rows × 6 columns</p>\n",
       "</div>"
      ],
      "text/plain": [
       "                       Name                       JobTitle AgencyID  \\\n",
       "0           Aaron,Keontae E                 AIDE BLUE CHIP   W02200   \n",
       "1          Aaron,Patricia G  Facilities/Office Services II   A03031   \n",
       "2             Aaron,Petra L     ASSISTANT STATE'S ATTORNEY   A29005   \n",
       "3        Abaineh,Yohannes T                 EPIDEMIOLOGIST   A65026   \n",
       "4          Abbene,Anthony M         POLICE OFFICER TRAINEE   A99416   \n",
       "...                     ...                            ...      ...   \n",
       "18976  Zotamou,Jean Marie D                 AIDE BLUE CHIP   W02235   \n",
       "18977       Zotamou,Pivot D                 AIDE BLUE CHIP   W02629   \n",
       "18978  Zovistoski,Zachary D         POLICE OFFICER TRAINEE   A99416   \n",
       "18979     Zubyk,Stanislav T                 POLICE OFFICER   A99262   \n",
       "18980    Zukowski,Charles J   Waste Water Tech Supv I Pump   A50206   \n",
       "\n",
       "                         Agency    HireDate  AnnualSalary  \n",
       "0                Youth Summer    06/10/2013       11310.0  \n",
       "1           OED-Employment Dev   10/24/1979       53428.0  \n",
       "2      States Attorneys Office   09/25/2006       68300.0  \n",
       "3       HLTH-Health Department   07/23/2009       62000.0  \n",
       "4            Police Department   07/24/2013       43999.0  \n",
       "...                         ...         ...           ...  \n",
       "18976            Youth Summer    05/21/2014       11310.0  \n",
       "18977             Youth Summer   05/21/2014       11310.0  \n",
       "18978        Police Department   12/17/2013       43999.0  \n",
       "18979        Police Department   01/23/2013       44104.0  \n",
       "18980  DPW-Water & Waste Water   10/15/1979       53568.0  \n",
       "\n",
       "[18981 rows x 6 columns]"
      ]
     },
     "execution_count": 16,
     "metadata": {},
     "output_type": "execute_result"
    }
   ],
   "source": [
    "salary"
   ]
  },
  {
   "cell_type": "code",
   "execution_count": 17,
   "id": "1624d899",
   "metadata": {},
   "outputs": [],
   "source": [
    "salary = salary.drop(['Name'],axis=1)"
   ]
  },
  {
   "cell_type": "code",
   "execution_count": 18,
   "id": "e09febf8",
   "metadata": {},
   "outputs": [
    {
     "data": {
      "text/html": [
       "<div>\n",
       "<style scoped>\n",
       "    .dataframe tbody tr th:only-of-type {\n",
       "        vertical-align: middle;\n",
       "    }\n",
       "\n",
       "    .dataframe tbody tr th {\n",
       "        vertical-align: top;\n",
       "    }\n",
       "\n",
       "    .dataframe thead th {\n",
       "        text-align: right;\n",
       "    }\n",
       "</style>\n",
       "<table border=\"1\" class=\"dataframe\">\n",
       "  <thead>\n",
       "    <tr style=\"text-align: right;\">\n",
       "      <th></th>\n",
       "      <th>JobTitle</th>\n",
       "      <th>AgencyID</th>\n",
       "      <th>Agency</th>\n",
       "      <th>HireDate</th>\n",
       "      <th>AnnualSalary</th>\n",
       "    </tr>\n",
       "  </thead>\n",
       "  <tbody>\n",
       "    <tr>\n",
       "      <th>0</th>\n",
       "      <td>AIDE BLUE CHIP</td>\n",
       "      <td>W02200</td>\n",
       "      <td>Youth Summer</td>\n",
       "      <td>06/10/2013</td>\n",
       "      <td>11310.0</td>\n",
       "    </tr>\n",
       "    <tr>\n",
       "      <th>1</th>\n",
       "      <td>Facilities/Office Services II</td>\n",
       "      <td>A03031</td>\n",
       "      <td>OED-Employment Dev</td>\n",
       "      <td>10/24/1979</td>\n",
       "      <td>53428.0</td>\n",
       "    </tr>\n",
       "    <tr>\n",
       "      <th>2</th>\n",
       "      <td>ASSISTANT STATE'S ATTORNEY</td>\n",
       "      <td>A29005</td>\n",
       "      <td>States Attorneys Office</td>\n",
       "      <td>09/25/2006</td>\n",
       "      <td>68300.0</td>\n",
       "    </tr>\n",
       "    <tr>\n",
       "      <th>3</th>\n",
       "      <td>EPIDEMIOLOGIST</td>\n",
       "      <td>A65026</td>\n",
       "      <td>HLTH-Health Department</td>\n",
       "      <td>07/23/2009</td>\n",
       "      <td>62000.0</td>\n",
       "    </tr>\n",
       "    <tr>\n",
       "      <th>4</th>\n",
       "      <td>POLICE OFFICER TRAINEE</td>\n",
       "      <td>A99416</td>\n",
       "      <td>Police Department</td>\n",
       "      <td>07/24/2013</td>\n",
       "      <td>43999.0</td>\n",
       "    </tr>\n",
       "    <tr>\n",
       "      <th>...</th>\n",
       "      <td>...</td>\n",
       "      <td>...</td>\n",
       "      <td>...</td>\n",
       "      <td>...</td>\n",
       "      <td>...</td>\n",
       "    </tr>\n",
       "    <tr>\n",
       "      <th>18976</th>\n",
       "      <td>AIDE BLUE CHIP</td>\n",
       "      <td>W02235</td>\n",
       "      <td>Youth Summer</td>\n",
       "      <td>05/21/2014</td>\n",
       "      <td>11310.0</td>\n",
       "    </tr>\n",
       "    <tr>\n",
       "      <th>18977</th>\n",
       "      <td>AIDE BLUE CHIP</td>\n",
       "      <td>W02629</td>\n",
       "      <td>Youth Summer</td>\n",
       "      <td>05/21/2014</td>\n",
       "      <td>11310.0</td>\n",
       "    </tr>\n",
       "    <tr>\n",
       "      <th>18978</th>\n",
       "      <td>POLICE OFFICER TRAINEE</td>\n",
       "      <td>A99416</td>\n",
       "      <td>Police Department</td>\n",
       "      <td>12/17/2013</td>\n",
       "      <td>43999.0</td>\n",
       "    </tr>\n",
       "    <tr>\n",
       "      <th>18979</th>\n",
       "      <td>POLICE OFFICER</td>\n",
       "      <td>A99262</td>\n",
       "      <td>Police Department</td>\n",
       "      <td>01/23/2013</td>\n",
       "      <td>44104.0</td>\n",
       "    </tr>\n",
       "    <tr>\n",
       "      <th>18980</th>\n",
       "      <td>Waste Water Tech Supv I Pump</td>\n",
       "      <td>A50206</td>\n",
       "      <td>DPW-Water &amp; Waste Water</td>\n",
       "      <td>10/15/1979</td>\n",
       "      <td>53568.0</td>\n",
       "    </tr>\n",
       "  </tbody>\n",
       "</table>\n",
       "<p>18981 rows × 5 columns</p>\n",
       "</div>"
      ],
      "text/plain": [
       "                            JobTitle AgencyID                    Agency  \\\n",
       "0                     AIDE BLUE CHIP   W02200            Youth Summer     \n",
       "1      Facilities/Office Services II   A03031       OED-Employment Dev    \n",
       "2         ASSISTANT STATE'S ATTORNEY   A29005  States Attorneys Office    \n",
       "3                     EPIDEMIOLOGIST   A65026   HLTH-Health Department    \n",
       "4             POLICE OFFICER TRAINEE   A99416        Police Department    \n",
       "...                              ...      ...                       ...   \n",
       "18976                 AIDE BLUE CHIP   W02235            Youth Summer     \n",
       "18977                 AIDE BLUE CHIP   W02629             Youth Summer    \n",
       "18978         POLICE OFFICER TRAINEE   A99416        Police Department    \n",
       "18979                 POLICE OFFICER   A99262        Police Department    \n",
       "18980   Waste Water Tech Supv I Pump   A50206  DPW-Water & Waste Water    \n",
       "\n",
       "         HireDate  AnnualSalary  \n",
       "0      06/10/2013       11310.0  \n",
       "1      10/24/1979       53428.0  \n",
       "2      09/25/2006       68300.0  \n",
       "3      07/23/2009       62000.0  \n",
       "4      07/24/2013       43999.0  \n",
       "...           ...           ...  \n",
       "18976  05/21/2014       11310.0  \n",
       "18977  05/21/2014       11310.0  \n",
       "18978  12/17/2013       43999.0  \n",
       "18979  01/23/2013       44104.0  \n",
       "18980  10/15/1979       53568.0  \n",
       "\n",
       "[18981 rows x 5 columns]"
      ]
     },
     "execution_count": 18,
     "metadata": {},
     "output_type": "execute_result"
    }
   ],
   "source": [
    "salary"
   ]
  },
  {
   "cell_type": "code",
   "execution_count": 19,
   "id": "69aed0a8",
   "metadata": {},
   "outputs": [
    {
     "name": "stdout",
     "output_type": "stream",
     "text": [
      "<class 'pandas.core.frame.DataFrame'>\n",
      "RangeIndex: 18981 entries, 0 to 18980\n",
      "Data columns (total 5 columns):\n",
      " #   Column        Non-Null Count  Dtype  \n",
      "---  ------        --------------  -----  \n",
      " 0   JobTitle      18981 non-null  object \n",
      " 1   AgencyID      18981 non-null  object \n",
      " 2   Agency        18981 non-null  object \n",
      " 3   HireDate      18981 non-null  object \n",
      " 4   AnnualSalary  18981 non-null  float64\n",
      "dtypes: float64(1), object(4)\n",
      "memory usage: 741.6+ KB\n"
     ]
    }
   ],
   "source": [
    "salary.info()"
   ]
  },
  {
   "cell_type": "code",
   "execution_count": 20,
   "id": "b4aa97fd",
   "metadata": {},
   "outputs": [],
   "source": [
    "salary[[\"month\", \"day\", \"year\"]] = salary[\"HireDate\"].str.split(\"/\", expand = True)"
   ]
  },
  {
   "cell_type": "code",
   "execution_count": 21,
   "id": "181fa691",
   "metadata": {},
   "outputs": [
    {
     "data": {
      "text/html": [
       "<div>\n",
       "<style scoped>\n",
       "    .dataframe tbody tr th:only-of-type {\n",
       "        vertical-align: middle;\n",
       "    }\n",
       "\n",
       "    .dataframe tbody tr th {\n",
       "        vertical-align: top;\n",
       "    }\n",
       "\n",
       "    .dataframe thead th {\n",
       "        text-align: right;\n",
       "    }\n",
       "</style>\n",
       "<table border=\"1\" class=\"dataframe\">\n",
       "  <thead>\n",
       "    <tr style=\"text-align: right;\">\n",
       "      <th></th>\n",
       "      <th>JobTitle</th>\n",
       "      <th>AgencyID</th>\n",
       "      <th>Agency</th>\n",
       "      <th>HireDate</th>\n",
       "      <th>AnnualSalary</th>\n",
       "      <th>month</th>\n",
       "      <th>day</th>\n",
       "      <th>year</th>\n",
       "    </tr>\n",
       "  </thead>\n",
       "  <tbody>\n",
       "    <tr>\n",
       "      <th>0</th>\n",
       "      <td>AIDE BLUE CHIP</td>\n",
       "      <td>W02200</td>\n",
       "      <td>Youth Summer</td>\n",
       "      <td>06/10/2013</td>\n",
       "      <td>11310.0</td>\n",
       "      <td>06</td>\n",
       "      <td>10</td>\n",
       "      <td>2013</td>\n",
       "    </tr>\n",
       "    <tr>\n",
       "      <th>1</th>\n",
       "      <td>Facilities/Office Services II</td>\n",
       "      <td>A03031</td>\n",
       "      <td>OED-Employment Dev</td>\n",
       "      <td>10/24/1979</td>\n",
       "      <td>53428.0</td>\n",
       "      <td>10</td>\n",
       "      <td>24</td>\n",
       "      <td>1979</td>\n",
       "    </tr>\n",
       "    <tr>\n",
       "      <th>2</th>\n",
       "      <td>ASSISTANT STATE'S ATTORNEY</td>\n",
       "      <td>A29005</td>\n",
       "      <td>States Attorneys Office</td>\n",
       "      <td>09/25/2006</td>\n",
       "      <td>68300.0</td>\n",
       "      <td>09</td>\n",
       "      <td>25</td>\n",
       "      <td>2006</td>\n",
       "    </tr>\n",
       "    <tr>\n",
       "      <th>3</th>\n",
       "      <td>EPIDEMIOLOGIST</td>\n",
       "      <td>A65026</td>\n",
       "      <td>HLTH-Health Department</td>\n",
       "      <td>07/23/2009</td>\n",
       "      <td>62000.0</td>\n",
       "      <td>07</td>\n",
       "      <td>23</td>\n",
       "      <td>2009</td>\n",
       "    </tr>\n",
       "    <tr>\n",
       "      <th>4</th>\n",
       "      <td>POLICE OFFICER TRAINEE</td>\n",
       "      <td>A99416</td>\n",
       "      <td>Police Department</td>\n",
       "      <td>07/24/2013</td>\n",
       "      <td>43999.0</td>\n",
       "      <td>07</td>\n",
       "      <td>24</td>\n",
       "      <td>2013</td>\n",
       "    </tr>\n",
       "    <tr>\n",
       "      <th>...</th>\n",
       "      <td>...</td>\n",
       "      <td>...</td>\n",
       "      <td>...</td>\n",
       "      <td>...</td>\n",
       "      <td>...</td>\n",
       "      <td>...</td>\n",
       "      <td>...</td>\n",
       "      <td>...</td>\n",
       "    </tr>\n",
       "    <tr>\n",
       "      <th>18976</th>\n",
       "      <td>AIDE BLUE CHIP</td>\n",
       "      <td>W02235</td>\n",
       "      <td>Youth Summer</td>\n",
       "      <td>05/21/2014</td>\n",
       "      <td>11310.0</td>\n",
       "      <td>05</td>\n",
       "      <td>21</td>\n",
       "      <td>2014</td>\n",
       "    </tr>\n",
       "    <tr>\n",
       "      <th>18977</th>\n",
       "      <td>AIDE BLUE CHIP</td>\n",
       "      <td>W02629</td>\n",
       "      <td>Youth Summer</td>\n",
       "      <td>05/21/2014</td>\n",
       "      <td>11310.0</td>\n",
       "      <td>05</td>\n",
       "      <td>21</td>\n",
       "      <td>2014</td>\n",
       "    </tr>\n",
       "    <tr>\n",
       "      <th>18978</th>\n",
       "      <td>POLICE OFFICER TRAINEE</td>\n",
       "      <td>A99416</td>\n",
       "      <td>Police Department</td>\n",
       "      <td>12/17/2013</td>\n",
       "      <td>43999.0</td>\n",
       "      <td>12</td>\n",
       "      <td>17</td>\n",
       "      <td>2013</td>\n",
       "    </tr>\n",
       "    <tr>\n",
       "      <th>18979</th>\n",
       "      <td>POLICE OFFICER</td>\n",
       "      <td>A99262</td>\n",
       "      <td>Police Department</td>\n",
       "      <td>01/23/2013</td>\n",
       "      <td>44104.0</td>\n",
       "      <td>01</td>\n",
       "      <td>23</td>\n",
       "      <td>2013</td>\n",
       "    </tr>\n",
       "    <tr>\n",
       "      <th>18980</th>\n",
       "      <td>Waste Water Tech Supv I Pump</td>\n",
       "      <td>A50206</td>\n",
       "      <td>DPW-Water &amp; Waste Water</td>\n",
       "      <td>10/15/1979</td>\n",
       "      <td>53568.0</td>\n",
       "      <td>10</td>\n",
       "      <td>15</td>\n",
       "      <td>1979</td>\n",
       "    </tr>\n",
       "  </tbody>\n",
       "</table>\n",
       "<p>18981 rows × 8 columns</p>\n",
       "</div>"
      ],
      "text/plain": [
       "                            JobTitle AgencyID                    Agency  \\\n",
       "0                     AIDE BLUE CHIP   W02200            Youth Summer     \n",
       "1      Facilities/Office Services II   A03031       OED-Employment Dev    \n",
       "2         ASSISTANT STATE'S ATTORNEY   A29005  States Attorneys Office    \n",
       "3                     EPIDEMIOLOGIST   A65026   HLTH-Health Department    \n",
       "4             POLICE OFFICER TRAINEE   A99416        Police Department    \n",
       "...                              ...      ...                       ...   \n",
       "18976                 AIDE BLUE CHIP   W02235            Youth Summer     \n",
       "18977                 AIDE BLUE CHIP   W02629             Youth Summer    \n",
       "18978         POLICE OFFICER TRAINEE   A99416        Police Department    \n",
       "18979                 POLICE OFFICER   A99262        Police Department    \n",
       "18980   Waste Water Tech Supv I Pump   A50206  DPW-Water & Waste Water    \n",
       "\n",
       "         HireDate  AnnualSalary month day  year  \n",
       "0      06/10/2013       11310.0    06  10  2013  \n",
       "1      10/24/1979       53428.0    10  24  1979  \n",
       "2      09/25/2006       68300.0    09  25  2006  \n",
       "3      07/23/2009       62000.0    07  23  2009  \n",
       "4      07/24/2013       43999.0    07  24  2013  \n",
       "...           ...           ...   ...  ..   ...  \n",
       "18976  05/21/2014       11310.0    05  21  2014  \n",
       "18977  05/21/2014       11310.0    05  21  2014  \n",
       "18978  12/17/2013       43999.0    12  17  2013  \n",
       "18979  01/23/2013       44104.0    01  23  2013  \n",
       "18980  10/15/1979       53568.0    10  15  1979  \n",
       "\n",
       "[18981 rows x 8 columns]"
      ]
     },
     "execution_count": 21,
     "metadata": {},
     "output_type": "execute_result"
    }
   ],
   "source": [
    "salary"
   ]
  },
  {
   "cell_type": "markdown",
   "id": "ef13dda2",
   "metadata": {},
   "source": [
    "# Exploratory Data Analysis"
   ]
  },
  {
   "cell_type": "code",
   "execution_count": 22,
   "id": "4399e10a",
   "metadata": {},
   "outputs": [
    {
     "data": {
      "text/plain": [
       "AIDE BLUE CHIP                    4817\n",
       "POLICE OFFICER                    1866\n",
       "LABORER (Hourly)                   597\n",
       "EMT Firefighter Suppression        358\n",
       "CROSSING GUARD                     337\n",
       "                                  ... \n",
       "VEHICLE DAMAGE INVESTIGATOR          1\n",
       "Community Health Nurse I             1\n",
       "ACCOUNTING SYSTEMS ANALYST           1\n",
       "DESK TOP PUBLISHING COORDINATO       1\n",
       "Research Analyst II                  1\n",
       "Name: JobTitle, Length: 1075, dtype: int64"
      ]
     },
     "execution_count": 22,
     "metadata": {},
     "output_type": "execute_result"
    }
   ],
   "source": [
    "salary.JobTitle.value_counts()"
   ]
  },
  {
   "cell_type": "code",
   "execution_count": 23,
   "id": "b82a09b5",
   "metadata": {},
   "outputs": [
    {
     "data": {
      "text/plain": [
       "P04001    316\n",
       "C90786    276\n",
       "W02629    193\n",
       "P04002    191\n",
       "A99416    166\n",
       "         ... \n",
       "W02539      1\n",
       "A65052      1\n",
       "W02106      1\n",
       "W02590      1\n",
       "W02339      1\n",
       "Name: AgencyID, Length: 1177, dtype: int64"
      ]
     },
     "execution_count": 23,
     "metadata": {},
     "output_type": "execute_result"
    }
   ],
   "source": [
    "salary.AgencyID.value_counts()"
   ]
  },
  {
   "cell_type": "code",
   "execution_count": 24,
   "id": "9f99936f",
   "metadata": {},
   "outputs": [
    {
     "data": {
      "text/plain": [
       "Youth Summer                4323\n",
       "Police Department           3211\n",
       "Fire Department             1576\n",
       "DPW-Water & Waste Water     1491\n",
       "HLTH-Health Department       833\n",
       "                            ... \n",
       "Council Services               6\n",
       "HLTH-Health Dept Locatio       6\n",
       "Legislative Reference          5\n",
       "M-R Cable & Comm               4\n",
       "Special City Services          4\n",
       "Name: Agency, Length: 65, dtype: int64"
      ]
     },
     "execution_count": 24,
     "metadata": {},
     "output_type": "execute_result"
    }
   ],
   "source": [
    "salary.Agency.value_counts()"
   ]
  },
  {
   "cell_type": "code",
   "execution_count": 25,
   "id": "6d3bc34c",
   "metadata": {},
   "outputs": [
    {
     "name": "stdout",
     "output_type": "stream",
     "text": [
      "Agency\n",
      "HLTH-Heatlh Dept. Locatio      1\n",
      "M-R Labor Commissioner         1\n",
      "M-R Cable & Comm               1\n",
      "Mayor's Office                 1\n",
      "HLTH-Heatlh                    1\n",
      "                            ... \n",
      "Enoch Pratt Free Library      57\n",
      "Fire Department               69\n",
      "Youth Summer                  77\n",
      "Police Department            133\n",
      "Youth Summer                 424\n",
      "Name: AgencyID, Length: 65, dtype: int64\n",
      "AgencyID\n",
      "A01001    1\n",
      "W02236    1\n",
      "W02235    1\n",
      "W02234    1\n",
      "W02233    1\n",
      "         ..\n",
      "A70104    1\n",
      "A70103    1\n",
      "A70101    1\n",
      "A75001    1\n",
      "W07905    1\n",
      "Name: Agency, Length: 1177, dtype: int64\n"
     ]
    }
   ],
   "source": [
    "x = salary.groupby('Agency')['AgencyID'].nunique().sort_values()\n",
    "print(x)\n",
    "\n",
    "y = salary.groupby('AgencyID')['Agency'].nunique().sort_values()\n",
    "print(y)"
   ]
  },
  {
   "cell_type": "code",
   "execution_count": 26,
   "id": "b71cfb34",
   "metadata": {},
   "outputs": [
    {
     "data": {
      "text/plain": [
       "array([1], dtype=int64)"
      ]
     },
     "execution_count": 26,
     "metadata": {},
     "output_type": "execute_result"
    }
   ],
   "source": [
    "y.unique()"
   ]
  },
  {
   "cell_type": "code",
   "execution_count": 27,
   "id": "6f0e6c30",
   "metadata": {},
   "outputs": [
    {
     "data": {
      "text/plain": [
       "05/21/2014    1478\n",
       "06/10/2013     696\n",
       "06/12/2012     541\n",
       "06/07/2011     368\n",
       "05/29/2014     347\n",
       "              ... \n",
       "02/13/2009       1\n",
       "08/12/1993       1\n",
       "02/09/1998       1\n",
       "05/06/1980       1\n",
       "10/15/1979       1\n",
       "Name: HireDate, Length: 4737, dtype: int64"
      ]
     },
     "execution_count": 27,
     "metadata": {},
     "output_type": "execute_result"
    }
   ],
   "source": [
    "salary.HireDate.value_counts()"
   ]
  },
  {
   "cell_type": "code",
   "execution_count": 28,
   "id": "3f5a6714",
   "metadata": {},
   "outputs": [
    {
     "data": {
      "text/plain": [
       "<AxesSubplot: >"
      ]
     },
     "execution_count": 28,
     "metadata": {},
     "output_type": "execute_result"
    },
    {
     "data": {
      "image/png": "[encoded data removed]",
      "text/plain": [
       "<Figure size 432x288 with 1 Axes>"
      ]
     },
     "metadata": {
      "needs_background": "light"
     },
     "output_type": "display_data"
    }
   ],
   "source": [
    "salary.AnnualSalary.plot.box()"
   ]
  },
  {
   "cell_type": "code",
   "execution_count": 29,
   "id": "b3704f33",
   "metadata": {},
   "outputs": [
    {
     "data": {
      "text/plain": [
       "count     18981.000000\n",
       "mean      39756.791968\n",
       "std       25173.051216\n",
       "min           0.000000\n",
       "25%       11310.000000\n",
       "50%       36400.000000\n",
       "75%       60598.000000\n",
       "max      238772.000000\n",
       "Name: AnnualSalary, dtype: float64"
      ]
     },
     "execution_count": 29,
     "metadata": {},
     "output_type": "execute_result"
    }
   ],
   "source": [
    "salary.AnnualSalary.describe()"
   ]
  },
  {
   "cell_type": "code",
   "execution_count": 30,
   "id": "219e0745",
   "metadata": {},
   "outputs": [],
   "source": [
    "salary = salary[salary['AnnualSalary']<140000]"
   ]
  },
  {
   "cell_type": "code",
   "execution_count": 31,
   "id": "996089d0",
   "metadata": {},
   "outputs": [
    {
     "data": {
      "text/plain": [
       "<AxesSubplot: >"
      ]
     },
     "execution_count": 31,
     "metadata": {},
     "output_type": "execute_result"
    },
    {
     "data": {
      "image/png": "[encoded data removed]",
      "text/plain": [
       "<Figure size 432x288 with 1 Axes>"
      ]
     },
     "metadata": {
      "needs_background": "light"
     },
     "output_type": "display_data"
    }
   ],
   "source": [
    "salary.AnnualSalary.plot.box()"
   ]
  },
  {
   "cell_type": "code",
   "execution_count": 32,
   "id": "2acc85b9",
   "metadata": {},
   "outputs": [
    {
     "name": "stderr",
     "output_type": "stream",
     "text": [
      "<ipython-input-32-643ed11cec26>:1: UserWarning: \n",
      "\n",
      "`distplot` is a deprecated function and will be removed in seaborn v0.14.0.\n",
      "\n",
      "Please adapt your code to use either `displot` (a figure-level function with\n",
      "similar flexibility) or `histplot` (an axes-level function for histograms).\n",
      "\n",
      "For a guide to updating your code to use the new functions, please see\n",
      "https://gist.github.com/mwaskom/de44147ed2974457ad6372750bbe5751\n",
      "\n",
      "  sns.distplot(salary.AnnualSalary)\n"
     ]
    },
    {
     "data": {
      "text/plain": [
       "<AxesSubplot: xlabel='AnnualSalary', ylabel='Density'>"
      ]
     },
     "execution_count": 32,
     "metadata": {},
     "output_type": "execute_result"
    },
    {
     "data": {
      "image/png": "[encoded data removed]",
      "text/plain": [
       "<Figure size 432x288 with 1 Axes>"
      ]
     },
     "metadata": {
      "needs_background": "light"
     },
     "output_type": "display_data"
    }
   ],
   "source": [
    "sns.distplot(salary.AnnualSalary)"
   ]
  },
  {
   "cell_type": "code",
   "execution_count": 33,
   "id": "fe662e17",
   "metadata": {},
   "outputs": [
    {
     "data": {
      "image/png": "[encoded data removed]",
      "text/plain": [
       "<Figure size 432x288 with 1 Axes>"
      ]
     },
     "metadata": {
      "needs_background": "light"
     },
     "output_type": "display_data"
    }
   ],
   "source": [
    "salary.groupby(['JobTitle'])['JobTitle'].count().sort_values(ascending=False).head(10).plot.bar()\n",
    "plt.ylabel('No of employees hired for jobs')\n",
    "plt.title('Top 10 jobs')\n",
    "plt.show()"
   ]
  },
  {
   "cell_type": "code",
   "execution_count": 34,
   "id": "09467163",
   "metadata": {},
   "outputs": [
    {
     "data": {
      "text/plain": [
       "<AxesSubplot: xlabel='JobTitle'>"
      ]
     },
     "execution_count": 34,
     "metadata": {},
     "output_type": "execute_result"
    },
    {
     "data": {
      "image/png": "[encoded data removed]",
      "text/plain": [
       "<Figure size 720x360 with 1 Axes>"
      ]
     },
     "metadata": {
      "needs_background": "light"
     },
     "output_type": "display_data"
    }
   ],
   "source": [
    "## top 10 jobs that fetch higher salary\n",
    "plt.figure(figsize=(10,5))\n",
    "salary.groupby(['JobTitle'])['AnnualSalary'].mean().sort_values(ascending=False).head(10).plot.bar()"
   ]
  },
  {
   "cell_type": "code",
   "execution_count": 35,
   "id": "cc71f71e",
   "metadata": {},
   "outputs": [
    {
     "data": {
      "text/plain": [
       "<AxesSubplot: xlabel='Agency'>"
      ]
     },
     "execution_count": 35,
     "metadata": {},
     "output_type": "execute_result"
    },
    {
     "data": {
      "image/png": "[encoded data removed]",
      "text/plain": [
       "<Figure size 720x360 with 1 Axes>"
      ]
     },
     "metadata": {
      "needs_background": "light"
     },
     "output_type": "display_data"
    }
   ],
   "source": [
    "## top 10 agencies that have hired higher number of employees\n",
    "plt.figure(figsize=(10,5))\n",
    "salary.groupby(['Agency'])['Agency'].count().sort_values(ascending=False).head(10).plot.bar()"
   ]
  },
  {
   "cell_type": "code",
   "execution_count": 36,
   "id": "673ae7ab",
   "metadata": {},
   "outputs": [
    {
     "data": {
      "text/plain": [
       "<AxesSubplot: xlabel='Agency'>"
      ]
     },
     "execution_count": 36,
     "metadata": {},
     "output_type": "execute_result"
    },
    {
     "data": {
      "image/png": "[encoded data removed]",
      "text/plain": [
       "<Figure size 720x360 with 1 Axes>"
      ]
     },
     "metadata": {
      "needs_background": "light"
     },
     "output_type": "display_data"
    }
   ],
   "source": [
    "## top 10 agencies that have hired minimum number of employees\n",
    "plt.figure(figsize=(10,5))\n",
    "salary.groupby(['Agency'])['Agency'].count().sort_values(ascending=False).tail(10).plot.bar()"
   ]
  },
  {
   "cell_type": "code",
   "execution_count": 37,
   "id": "ce0e4f19",
   "metadata": {},
   "outputs": [
    {
     "data": {
      "text/plain": [
       "<AxesSubplot: xlabel='AgencyID'>"
      ]
     },
     "execution_count": 37,
     "metadata": {},
     "output_type": "execute_result"
    },
    {
     "data": {
      "image/png": "[encoded data removed]",
      "text/plain": [
       "<Figure size 432x288 with 1 Axes>"
      ]
     },
     "metadata": {
      "needs_background": "light"
     },
     "output_type": "display_data"
    }
   ],
   "source": [
    "## which agency id have higher number of employees working\n",
    "\n",
    "salary.groupby(['AgencyID'])['AgencyID'].count().sort_values(ascending=False).head(10).plot.bar()"
   ]
  },
  {
   "cell_type": "code",
   "execution_count": 38,
   "id": "4fc788ef",
   "metadata": {},
   "outputs": [
    {
     "name": "stderr",
     "output_type": "stream",
     "text": [
      "<ipython-input-38-84113e3bca03>:1: SettingWithCopyWarning: \n",
      "A value is trying to be set on a copy of a slice from a DataFrame.\n",
      "Try using .loc[row_indexer,col_indexer] = value instead\n",
      "\n",
      "See the caveats in the documentation: https://pandas.pydata.org/pandas-docs/stable/user_guide/indexing.html#returning-a-view-versus-a-copy\n",
      "  salary['year']=salary['year'].astype('int32')\n"
     ]
    }
   ],
   "source": [
    "salary['year']=salary['year'].astype('int32')"
   ]
  },
  {
   "cell_type": "code",
   "execution_count": 39,
   "id": "045ce514",
   "metadata": {},
   "outputs": [
    {
     "data": {
      "text/plain": [
       "(array([1940., 1950., 1960., 1970., 1980., 1990., 2000., 2010., 2020.]),\n",
       " [Text(1940.0, 0, '1940'),\n",
       "  Text(1950.0, 0, '1950'),\n",
       "  Text(1960.0, 0, '1960'),\n",
       "  Text(1970.0, 0, '1970'),\n",
       "  Text(1980.0, 0, '1980'),\n",
       "  Text(1990.0, 0, '1990'),\n",
       "  Text(2000.0, 0, '2000'),\n",
       "  Text(2010.0, 0, '2010'),\n",
       "  Text(2020.0, 0, '2020')])"
      ]
     },
     "execution_count": 39,
     "metadata": {},
     "output_type": "execute_result"
    },
    {
     "data": {
      "image/png": "[encoded data removed]",
      "text/plain": [
       "<Figure size 576x576 with 1 Axes>"
      ]
     },
     "metadata": {
      "needs_background": "light"
     },
     "output_type": "display_data"
    }
   ],
   "source": [
    "### year on year hirings and payouts\n",
    "plt.figure(figsize=(8,8))\n",
    "sns.lineplot(x=salary.year, y=salary.AnnualSalary,sort=True)\n",
    "plt.xticks(rotation=90)"
   ]
  },
  {
   "cell_type": "code",
   "execution_count": 40,
   "id": "d3fccaac",
   "metadata": {},
   "outputs": [
    {
     "data": {
      "text/plain": [
       "<AxesSubplot: xlabel='month'>"
      ]
     },
     "execution_count": 40,
     "metadata": {},
     "output_type": "execute_result"
    },
    {
     "data": {
      "image/png": "[encoded data removed]",
      "text/plain": [
       "<Figure size 432x288 with 1 Axes>"
      ]
     },
     "metadata": {
      "needs_background": "light"
     },
     "output_type": "display_data"
    }
   ],
   "source": [
    "## if month have an impact over salaary\n",
    "salary.groupby(['month'])['AnnualSalary'].mean().sort_values().plot.bar()"
   ]
  },
  {
   "cell_type": "code",
   "execution_count": 41,
   "id": "2609dcc9",
   "metadata": {},
   "outputs": [
    {
     "data": {
      "text/plain": [
       "<AxesSubplot: xlabel='month'>"
      ]
     },
     "execution_count": 41,
     "metadata": {},
     "output_type": "execute_result"
    },
    {
     "data": {
      "image/png": "[encoded data removed]",
      "text/plain": [
       "<Figure size 432x288 with 1 Axes>"
      ]
     },
     "metadata": {
      "needs_background": "light"
     },
     "output_type": "display_data"
    }
   ],
   "source": [
    "## in which month higher number of people were hired\n",
    "salary.groupby(['month'])['month'].count().sort_values().plot.bar()"
   ]
  },
  {
   "cell_type": "code",
   "execution_count": 42,
   "id": "d9829f8e",
   "metadata": {},
   "outputs": [
    {
     "data": {
      "text/plain": [
       "<seaborn.axisgrid.PairGrid at 0x28f46e124f0>"
      ]
     },
     "execution_count": 42,
     "metadata": {},
     "output_type": "execute_result"
    },
    {
     "data": {
      "image/png": "[encoded data removed]",
      "text/plain": [
       "<Figure size 360x360 with 6 Axes>"
      ]
     },
     "metadata": {
      "needs_background": "light"
     },
     "output_type": "display_data"
    }
   ],
   "source": [
    "## multivariate analysis\n",
    "sns.pairplot(salary)"
   ]
  },
  {
   "cell_type": "code",
   "execution_count": 43,
   "id": "6e671d88",
   "metadata": {},
   "outputs": [
    {
     "data": {
      "text/html": [
       "<div>\n",
       "<style scoped>\n",
       "    .dataframe tbody tr th:only-of-type {\n",
       "        vertical-align: middle;\n",
       "    }\n",
       "\n",
       "    .dataframe tbody tr th {\n",
       "        vertical-align: top;\n",
       "    }\n",
       "\n",
       "    .dataframe thead th {\n",
       "        text-align: right;\n",
       "    }\n",
       "</style>\n",
       "<table border=\"1\" class=\"dataframe\">\n",
       "  <thead>\n",
       "    <tr style=\"text-align: right;\">\n",
       "      <th></th>\n",
       "      <th>JobTitle</th>\n",
       "      <th>AgencyID</th>\n",
       "      <th>Agency</th>\n",
       "      <th>HireDate</th>\n",
       "      <th>AnnualSalary</th>\n",
       "      <th>month</th>\n",
       "      <th>day</th>\n",
       "      <th>year</th>\n",
       "    </tr>\n",
       "  </thead>\n",
       "  <tbody>\n",
       "    <tr>\n",
       "      <th>0</th>\n",
       "      <td>AIDE BLUE CHIP</td>\n",
       "      <td>W02200</td>\n",
       "      <td>Youth Summer</td>\n",
       "      <td>06/10/2013</td>\n",
       "      <td>11310.0</td>\n",
       "      <td>06</td>\n",
       "      <td>10</td>\n",
       "      <td>2013</td>\n",
       "    </tr>\n",
       "    <tr>\n",
       "      <th>1</th>\n",
       "      <td>Facilities/Office Services II</td>\n",
       "      <td>A03031</td>\n",
       "      <td>OED-Employment Dev</td>\n",
       "      <td>10/24/1979</td>\n",
       "      <td>53428.0</td>\n",
       "      <td>10</td>\n",
       "      <td>24</td>\n",
       "      <td>1979</td>\n",
       "    </tr>\n",
       "    <tr>\n",
       "      <th>2</th>\n",
       "      <td>ASSISTANT STATE'S ATTORNEY</td>\n",
       "      <td>A29005</td>\n",
       "      <td>States Attorneys Office</td>\n",
       "      <td>09/25/2006</td>\n",
       "      <td>68300.0</td>\n",
       "      <td>09</td>\n",
       "      <td>25</td>\n",
       "      <td>2006</td>\n",
       "    </tr>\n",
       "    <tr>\n",
       "      <th>3</th>\n",
       "      <td>EPIDEMIOLOGIST</td>\n",
       "      <td>A65026</td>\n",
       "      <td>HLTH-Health Department</td>\n",
       "      <td>07/23/2009</td>\n",
       "      <td>62000.0</td>\n",
       "      <td>07</td>\n",
       "      <td>23</td>\n",
       "      <td>2009</td>\n",
       "    </tr>\n",
       "    <tr>\n",
       "      <th>4</th>\n",
       "      <td>POLICE OFFICER TRAINEE</td>\n",
       "      <td>A99416</td>\n",
       "      <td>Police Department</td>\n",
       "      <td>07/24/2013</td>\n",
       "      <td>43999.0</td>\n",
       "      <td>07</td>\n",
       "      <td>24</td>\n",
       "      <td>2013</td>\n",
       "    </tr>\n",
       "    <tr>\n",
       "      <th>...</th>\n",
       "      <td>...</td>\n",
       "      <td>...</td>\n",
       "      <td>...</td>\n",
       "      <td>...</td>\n",
       "      <td>...</td>\n",
       "      <td>...</td>\n",
       "      <td>...</td>\n",
       "      <td>...</td>\n",
       "    </tr>\n",
       "    <tr>\n",
       "      <th>18976</th>\n",
       "      <td>AIDE BLUE CHIP</td>\n",
       "      <td>W02235</td>\n",
       "      <td>Youth Summer</td>\n",
       "      <td>05/21/2014</td>\n",
       "      <td>11310.0</td>\n",
       "      <td>05</td>\n",
       "      <td>21</td>\n",
       "      <td>2014</td>\n",
       "    </tr>\n",
       "    <tr>\n",
       "      <th>18977</th>\n",
       "      <td>AIDE BLUE CHIP</td>\n",
       "      <td>W02629</td>\n",
       "      <td>Youth Summer</td>\n",
       "      <td>05/21/2014</td>\n",
       "      <td>11310.0</td>\n",
       "      <td>05</td>\n",
       "      <td>21</td>\n",
       "      <td>2014</td>\n",
       "    </tr>\n",
       "    <tr>\n",
       "      <th>18978</th>\n",
       "      <td>POLICE OFFICER TRAINEE</td>\n",
       "      <td>A99416</td>\n",
       "      <td>Police Department</td>\n",
       "      <td>12/17/2013</td>\n",
       "      <td>43999.0</td>\n",
       "      <td>12</td>\n",
       "      <td>17</td>\n",
       "      <td>2013</td>\n",
       "    </tr>\n",
       "    <tr>\n",
       "      <th>18979</th>\n",
       "      <td>POLICE OFFICER</td>\n",
       "      <td>A99262</td>\n",
       "      <td>Police Department</td>\n",
       "      <td>01/23/2013</td>\n",
       "      <td>44104.0</td>\n",
       "      <td>01</td>\n",
       "      <td>23</td>\n",
       "      <td>2013</td>\n",
       "    </tr>\n",
       "    <tr>\n",
       "      <th>18980</th>\n",
       "      <td>Waste Water Tech Supv I Pump</td>\n",
       "      <td>A50206</td>\n",
       "      <td>DPW-Water &amp; Waste Water</td>\n",
       "      <td>10/15/1979</td>\n",
       "      <td>53568.0</td>\n",
       "      <td>10</td>\n",
       "      <td>15</td>\n",
       "      <td>1979</td>\n",
       "    </tr>\n",
       "  </tbody>\n",
       "</table>\n",
       "<p>18955 rows × 8 columns</p>\n",
       "</div>"
      ],
      "text/plain": [
       "                            JobTitle AgencyID                    Agency  \\\n",
       "0                     AIDE BLUE CHIP   W02200            Youth Summer     \n",
       "1      Facilities/Office Services II   A03031       OED-Employment Dev    \n",
       "2         ASSISTANT STATE'S ATTORNEY   A29005  States Attorneys Office    \n",
       "3                     EPIDEMIOLOGIST   A65026   HLTH-Health Department    \n",
       "4             POLICE OFFICER TRAINEE   A99416        Police Department    \n",
       "...                              ...      ...                       ...   \n",
       "18976                 AIDE BLUE CHIP   W02235            Youth Summer     \n",
       "18977                 AIDE BLUE CHIP   W02629             Youth Summer    \n",
       "18978         POLICE OFFICER TRAINEE   A99416        Police Department    \n",
       "18979                 POLICE OFFICER   A99262        Police Department    \n",
       "18980   Waste Water Tech Supv I Pump   A50206  DPW-Water & Waste Water    \n",
       "\n",
       "         HireDate  AnnualSalary month day  year  \n",
       "0      06/10/2013       11310.0    06  10  2013  \n",
       "1      10/24/1979       53428.0    10  24  1979  \n",
       "2      09/25/2006       68300.0    09  25  2006  \n",
       "3      07/23/2009       62000.0    07  23  2009  \n",
       "4      07/24/2013       43999.0    07  24  2013  \n",
       "...           ...           ...   ...  ..   ...  \n",
       "18976  05/21/2014       11310.0    05  21  2014  \n",
       "18977  05/21/2014       11310.0    05  21  2014  \n",
       "18978  12/17/2013       43999.0    12  17  2013  \n",
       "18979  01/23/2013       44104.0    01  23  2013  \n",
       "18980  10/15/1979       53568.0    10  15  1979  \n",
       "\n",
       "[18955 rows x 8 columns]"
      ]
     },
     "execution_count": 43,
     "metadata": {},
     "output_type": "execute_result"
    }
   ],
   "source": [
    "salary"
   ]
  },
  {
   "cell_type": "code",
   "execution_count": 44,
   "id": "ef6a1373",
   "metadata": {},
   "outputs": [
    {
     "name": "stderr",
     "output_type": "stream",
     "text": [
      "<ipython-input-44-93f3c1583dc3>:1: SettingWithCopyWarning: \n",
      "A value is trying to be set on a copy of a slice from a DataFrame.\n",
      "Try using .loc[row_indexer,col_indexer] = value instead\n",
      "\n",
      "See the caveats in the documentation: https://pandas.pydata.org/pandas-docs/stable/user_guide/indexing.html#returning-a-view-versus-a-copy\n",
      "  salary['month']=salary['month'].astype('int32')\n"
     ]
    }
   ],
   "source": [
    "salary['month']=salary['month'].astype('int32')"
   ]
  },
  {
   "cell_type": "code",
   "execution_count": 45,
   "id": "d55c09c9",
   "metadata": {},
   "outputs": [
    {
     "name": "stderr",
     "output_type": "stream",
     "text": [
      "<ipython-input-45-2709ea3ad534>:1: SettingWithCopyWarning: \n",
      "A value is trying to be set on a copy of a slice from a DataFrame.\n",
      "Try using .loc[row_indexer,col_indexer] = value instead\n",
      "\n",
      "See the caveats in the documentation: https://pandas.pydata.org/pandas-docs/stable/user_guide/indexing.html#returning-a-view-versus-a-copy\n",
      "  salary['day']=salary['day'].astype('int32')\n"
     ]
    }
   ],
   "source": [
    "salary['day']=salary['day'].astype('int32')"
   ]
  },
  {
   "cell_type": "code",
   "execution_count": 46,
   "id": "557e46c5",
   "metadata": {},
   "outputs": [
    {
     "data": {
      "text/plain": [
       "<AxesSubplot: >"
      ]
     },
     "execution_count": 46,
     "metadata": {},
     "output_type": "execute_result"
    },
    {
     "data": {
      "image/png": "[encoded data removed]",
      "text/plain": [
       "<Figure size 432x288 with 2 Axes>"
      ]
     },
     "metadata": {
      "needs_background": "light"
     },
     "output_type": "display_data"
    }
   ],
   "source": [
    "sns.heatmap(salary.corr(),annot=True)"
   ]
  },
  {
   "cell_type": "markdown",
   "id": "7129edff",
   "metadata": {},
   "source": [
    "# FEATURE ENGINEERING , mean encoding"
   ]
  },
  {
   "cell_type": "code",
   "execution_count": 47,
   "id": "9f651cd1",
   "metadata": {},
   "outputs": [],
   "source": [
    "mean_job = salary.groupby('JobTitle')['AnnualSalary'].mean()"
   ]
  },
  {
   "cell_type": "code",
   "execution_count": 48,
   "id": "302d1b7b",
   "metadata": {},
   "outputs": [
    {
     "data": {
      "text/plain": [
       "JobTitle\n",
       "911 LEAD OPERATOR              47886.000000\n",
       "911 OPERATOR                   42835.743590\n",
       "911 OPERATOR SUPERVISOR        54797.500000\n",
       "ACCOUNT EXECUTIVE              42960.000000\n",
       "ACCOUNTANT I                   46316.642857\n",
       "                                   ...     \n",
       "ZONING ADMINISTRATOR           82100.000000\n",
       "ZONING APPEALS ADVISOR BMZA    59274.000000\n",
       "ZONING ENFORCEMENT OFFICER     62000.000000\n",
       "ZONING EXAMINER I              43674.000000\n",
       "ZONING EXAMINER II             53568.000000\n",
       "Name: AnnualSalary, Length: 1069, dtype: float64"
      ]
     },
     "execution_count": 48,
     "metadata": {},
     "output_type": "execute_result"
    }
   ],
   "source": [
    "mean_job"
   ]
  },
  {
   "cell_type": "code",
   "execution_count": 49,
   "id": "a62c93e1",
   "metadata": {},
   "outputs": [
    {
     "name": "stderr",
     "output_type": "stream",
     "text": [
      "<ipython-input-49-0057877fa3aa>:1: SettingWithCopyWarning: \n",
      "A value is trying to be set on a copy of a slice from a DataFrame.\n",
      "Try using .loc[row_indexer,col_indexer] = value instead\n",
      "\n",
      "See the caveats in the documentation: https://pandas.pydata.org/pandas-docs/stable/user_guide/indexing.html#returning-a-view-versus-a-copy\n",
      "  salary['JobTitle'] = salary['JobTitle'].map(mean_job)\n"
     ]
    }
   ],
   "source": [
    "salary['JobTitle'] = salary['JobTitle'].map(mean_job)"
   ]
  },
  {
   "cell_type": "code",
   "execution_count": 50,
   "id": "f631a5ef",
   "metadata": {},
   "outputs": [
    {
     "name": "stderr",
     "output_type": "stream",
     "text": [
      "<ipython-input-50-91d9acc58b24>:2: SettingWithCopyWarning: \n",
      "A value is trying to be set on a copy of a slice from a DataFrame.\n",
      "Try using .loc[row_indexer,col_indexer] = value instead\n",
      "\n",
      "See the caveats in the documentation: https://pandas.pydata.org/pandas-docs/stable/user_guide/indexing.html#returning-a-view-versus-a-copy\n",
      "  salary['Agency'] = salary['Agency'].map(mean_agency)\n"
     ]
    }
   ],
   "source": [
    "mean_agency = salary.groupby('Agency')['AnnualSalary'].mean()\n",
    "salary['Agency'] = salary['Agency'].map(mean_agency)"
   ]
  },
  {
   "cell_type": "code",
   "execution_count": 51,
   "id": "364122fd",
   "metadata": {},
   "outputs": [
    {
     "name": "stderr",
     "output_type": "stream",
     "text": [
      "<ipython-input-51-995eb4e7ba6b>:2: SettingWithCopyWarning: \n",
      "A value is trying to be set on a copy of a slice from a DataFrame.\n",
      "Try using .loc[row_indexer,col_indexer] = value instead\n",
      "\n",
      "See the caveats in the documentation: https://pandas.pydata.org/pandas-docs/stable/user_guide/indexing.html#returning-a-view-versus-a-copy\n",
      "  salary['AgencyID'] = salary['AgencyID'].map(mean_agencyID)\n"
     ]
    }
   ],
   "source": [
    "mean_agencyID = salary.groupby('AgencyID')['AnnualSalary'].mean()\n",
    "salary['AgencyID'] = salary['AgencyID'].map(mean_agencyID)"
   ]
  },
  {
   "cell_type": "code",
   "execution_count": 52,
   "id": "ee17d777",
   "metadata": {},
   "outputs": [
    {
     "data": {
      "text/html": [
       "<div>\n",
       "<style scoped>\n",
       "    .dataframe tbody tr th:only-of-type {\n",
       "        vertical-align: middle;\n",
       "    }\n",
       "\n",
       "    .dataframe tbody tr th {\n",
       "        vertical-align: top;\n",
       "    }\n",
       "\n",
       "    .dataframe thead th {\n",
       "        text-align: right;\n",
       "    }\n",
       "</style>\n",
       "<table border=\"1\" class=\"dataframe\">\n",
       "  <thead>\n",
       "    <tr style=\"text-align: right;\">\n",
       "      <th></th>\n",
       "      <th>JobTitle</th>\n",
       "      <th>AgencyID</th>\n",
       "      <th>Agency</th>\n",
       "      <th>HireDate</th>\n",
       "      <th>AnnualSalary</th>\n",
       "      <th>month</th>\n",
       "      <th>day</th>\n",
       "      <th>year</th>\n",
       "    </tr>\n",
       "  </thead>\n",
       "  <tbody>\n",
       "    <tr>\n",
       "      <th>0</th>\n",
       "      <td>11313.967200</td>\n",
       "      <td>11310.000000</td>\n",
       "      <td>11310.270645</td>\n",
       "      <td>06/10/2013</td>\n",
       "      <td>11310.0</td>\n",
       "      <td>6</td>\n",
       "      <td>10</td>\n",
       "      <td>2013</td>\n",
       "    </tr>\n",
       "    <tr>\n",
       "      <th>1</th>\n",
       "      <td>47443.500000</td>\n",
       "      <td>46667.000000</td>\n",
       "      <td>51495.424242</td>\n",
       "      <td>10/24/1979</td>\n",
       "      <td>53428.0</td>\n",
       "      <td>10</td>\n",
       "      <td>24</td>\n",
       "      <td>1979</td>\n",
       "    </tr>\n",
       "    <tr>\n",
       "      <th>2</th>\n",
       "      <td>69750.666667</td>\n",
       "      <td>65926.133333</td>\n",
       "      <td>64874.560224</td>\n",
       "      <td>09/25/2006</td>\n",
       "      <td>68300.0</td>\n",
       "      <td>9</td>\n",
       "      <td>25</td>\n",
       "      <td>2006</td>\n",
       "    </tr>\n",
       "    <tr>\n",
       "      <th>3</th>\n",
       "      <td>57940.000000</td>\n",
       "      <td>48071.851064</td>\n",
       "      <td>39980.900360</td>\n",
       "      <td>07/23/2009</td>\n",
       "      <td>62000.0</td>\n",
       "      <td>7</td>\n",
       "      <td>23</td>\n",
       "      <td>2009</td>\n",
       "    </tr>\n",
       "    <tr>\n",
       "      <th>4</th>\n",
       "      <td>44531.160494</td>\n",
       "      <td>44012.307229</td>\n",
       "      <td>61575.070137</td>\n",
       "      <td>07/24/2013</td>\n",
       "      <td>43999.0</td>\n",
       "      <td>7</td>\n",
       "      <td>24</td>\n",
       "      <td>2013</td>\n",
       "    </tr>\n",
       "    <tr>\n",
       "      <th>...</th>\n",
       "      <td>...</td>\n",
       "      <td>...</td>\n",
       "      <td>...</td>\n",
       "      <td>...</td>\n",
       "      <td>...</td>\n",
       "      <td>...</td>\n",
       "      <td>...</td>\n",
       "      <td>...</td>\n",
       "    </tr>\n",
       "    <tr>\n",
       "      <th>18976</th>\n",
       "      <td>11313.967200</td>\n",
       "      <td>11310.000000</td>\n",
       "      <td>11310.270645</td>\n",
       "      <td>05/21/2014</td>\n",
       "      <td>11310.0</td>\n",
       "      <td>5</td>\n",
       "      <td>21</td>\n",
       "      <td>2014</td>\n",
       "    </tr>\n",
       "    <tr>\n",
       "      <th>18977</th>\n",
       "      <td>11313.967200</td>\n",
       "      <td>11310.000000</td>\n",
       "      <td>11346.315789</td>\n",
       "      <td>05/21/2014</td>\n",
       "      <td>11310.0</td>\n",
       "      <td>5</td>\n",
       "      <td>21</td>\n",
       "      <td>2014</td>\n",
       "    </tr>\n",
       "    <tr>\n",
       "      <th>18978</th>\n",
       "      <td>44531.160494</td>\n",
       "      <td>44012.307229</td>\n",
       "      <td>61575.070137</td>\n",
       "      <td>12/17/2013</td>\n",
       "      <td>43999.0</td>\n",
       "      <td>12</td>\n",
       "      <td>17</td>\n",
       "      <td>2013</td>\n",
       "    </tr>\n",
       "    <tr>\n",
       "      <th>18979</th>\n",
       "      <td>60588.139335</td>\n",
       "      <td>60203.340426</td>\n",
       "      <td>61575.070137</td>\n",
       "      <td>01/23/2013</td>\n",
       "      <td>44104.0</td>\n",
       "      <td>1</td>\n",
       "      <td>23</td>\n",
       "      <td>2013</td>\n",
       "    </tr>\n",
       "    <tr>\n",
       "      <th>18980</th>\n",
       "      <td>53368.428571</td>\n",
       "      <td>42407.562500</td>\n",
       "      <td>42565.513078</td>\n",
       "      <td>10/15/1979</td>\n",
       "      <td>53568.0</td>\n",
       "      <td>10</td>\n",
       "      <td>15</td>\n",
       "      <td>1979</td>\n",
       "    </tr>\n",
       "  </tbody>\n",
       "</table>\n",
       "<p>18955 rows × 8 columns</p>\n",
       "</div>"
      ],
      "text/plain": [
       "           JobTitle      AgencyID        Agency    HireDate  AnnualSalary  \\\n",
       "0      11313.967200  11310.000000  11310.270645  06/10/2013       11310.0   \n",
       "1      47443.500000  46667.000000  51495.424242  10/24/1979       53428.0   \n",
       "2      69750.666667  65926.133333  64874.560224  09/25/2006       68300.0   \n",
       "3      57940.000000  48071.851064  39980.900360  07/23/2009       62000.0   \n",
       "4      44531.160494  44012.307229  61575.070137  07/24/2013       43999.0   \n",
       "...             ...           ...           ...         ...           ...   \n",
       "18976  11313.967200  11310.000000  11310.270645  05/21/2014       11310.0   \n",
       "18977  11313.967200  11310.000000  11346.315789  05/21/2014       11310.0   \n",
       "18978  44531.160494  44012.307229  61575.070137  12/17/2013       43999.0   \n",
       "18979  60588.139335  60203.340426  61575.070137  01/23/2013       44104.0   \n",
       "18980  53368.428571  42407.562500  42565.513078  10/15/1979       53568.0   \n",
       "\n",
       "       month  day  year  \n",
       "0          6   10  2013  \n",
       "1         10   24  1979  \n",
       "2          9   25  2006  \n",
       "3          7   23  2009  \n",
       "4          7   24  2013  \n",
       "...      ...  ...   ...  \n",
       "18976      5   21  2014  \n",
       "18977      5   21  2014  \n",
       "18978     12   17  2013  \n",
       "18979      1   23  2013  \n",
       "18980     10   15  1979  \n",
       "\n",
       "[18955 rows x 8 columns]"
      ]
     },
     "execution_count": 52,
     "metadata": {},
     "output_type": "execute_result"
    }
   ],
   "source": [
    "salary"
   ]
  },
  {
   "cell_type": "code",
   "execution_count": 53,
   "id": "8e304b38",
   "metadata": {},
   "outputs": [
    {
     "name": "stdout",
     "output_type": "stream",
     "text": [
      "<class 'pandas.core.frame.DataFrame'>\n",
      "Int64Index: 18955 entries, 0 to 18980\n",
      "Data columns (total 8 columns):\n",
      " #   Column        Non-Null Count  Dtype  \n",
      "---  ------        --------------  -----  \n",
      " 0   JobTitle      18955 non-null  float64\n",
      " 1   AgencyID      18955 non-null  float64\n",
      " 2   Agency        18955 non-null  float64\n",
      " 3   HireDate      18955 non-null  object \n",
      " 4   AnnualSalary  18955 non-null  float64\n",
      " 5   month         18955 non-null  int32  \n",
      " 6   day           18955 non-null  int32  \n",
      " 7   year          18955 non-null  int32  \n",
      "dtypes: float64(4), int32(3), object(1)\n",
      "memory usage: 1.6+ MB\n"
     ]
    }
   ],
   "source": [
    "salary.info()"
   ]
  },
  {
   "cell_type": "code",
   "execution_count": 54,
   "id": "88fec755",
   "metadata": {},
   "outputs": [
    {
     "name": "stderr",
     "output_type": "stream",
     "text": [
      "c:\\users\\soham\\appdata\\local\\programs\\python\\python39\\lib\\site-packages\\pandas\\core\\frame.py:4906: SettingWithCopyWarning: \n",
      "A value is trying to be set on a copy of a slice from a DataFrame\n",
      "\n",
      "See the caveats in the documentation: https://pandas.pydata.org/pandas-docs/stable/user_guide/indexing.html#returning-a-view-versus-a-copy\n",
      "  return super().drop(\n"
     ]
    }
   ],
   "source": [
    "salary.drop(['HireDate'],axis=1,inplace=True)"
   ]
  },
  {
   "cell_type": "code",
   "execution_count": 55,
   "id": "8530c21d",
   "metadata": {},
   "outputs": [
    {
     "data": {
      "text/html": [
       "<div>\n",
       "<style scoped>\n",
       "    .dataframe tbody tr th:only-of-type {\n",
       "        vertical-align: middle;\n",
       "    }\n",
       "\n",
       "    .dataframe tbody tr th {\n",
       "        vertical-align: top;\n",
       "    }\n",
       "\n",
       "    .dataframe thead th {\n",
       "        text-align: right;\n",
       "    }\n",
       "</style>\n",
       "<table border=\"1\" class=\"dataframe\">\n",
       "  <thead>\n",
       "    <tr style=\"text-align: right;\">\n",
       "      <th></th>\n",
       "      <th>JobTitle</th>\n",
       "      <th>AgencyID</th>\n",
       "      <th>Agency</th>\n",
       "      <th>AnnualSalary</th>\n",
       "      <th>month</th>\n",
       "      <th>day</th>\n",
       "      <th>year</th>\n",
       "    </tr>\n",
       "  </thead>\n",
       "  <tbody>\n",
       "    <tr>\n",
       "      <th>0</th>\n",
       "      <td>11313.967200</td>\n",
       "      <td>11310.000000</td>\n",
       "      <td>11310.270645</td>\n",
       "      <td>11310.0</td>\n",
       "      <td>6</td>\n",
       "      <td>10</td>\n",
       "      <td>2013</td>\n",
       "    </tr>\n",
       "    <tr>\n",
       "      <th>1</th>\n",
       "      <td>47443.500000</td>\n",
       "      <td>46667.000000</td>\n",
       "      <td>51495.424242</td>\n",
       "      <td>53428.0</td>\n",
       "      <td>10</td>\n",
       "      <td>24</td>\n",
       "      <td>1979</td>\n",
       "    </tr>\n",
       "    <tr>\n",
       "      <th>2</th>\n",
       "      <td>69750.666667</td>\n",
       "      <td>65926.133333</td>\n",
       "      <td>64874.560224</td>\n",
       "      <td>68300.0</td>\n",
       "      <td>9</td>\n",
       "      <td>25</td>\n",
       "      <td>2006</td>\n",
       "    </tr>\n",
       "    <tr>\n",
       "      <th>3</th>\n",
       "      <td>57940.000000</td>\n",
       "      <td>48071.851064</td>\n",
       "      <td>39980.900360</td>\n",
       "      <td>62000.0</td>\n",
       "      <td>7</td>\n",
       "      <td>23</td>\n",
       "      <td>2009</td>\n",
       "    </tr>\n",
       "    <tr>\n",
       "      <th>4</th>\n",
       "      <td>44531.160494</td>\n",
       "      <td>44012.307229</td>\n",
       "      <td>61575.070137</td>\n",
       "      <td>43999.0</td>\n",
       "      <td>7</td>\n",
       "      <td>24</td>\n",
       "      <td>2013</td>\n",
       "    </tr>\n",
       "    <tr>\n",
       "      <th>...</th>\n",
       "      <td>...</td>\n",
       "      <td>...</td>\n",
       "      <td>...</td>\n",
       "      <td>...</td>\n",
       "      <td>...</td>\n",
       "      <td>...</td>\n",
       "      <td>...</td>\n",
       "    </tr>\n",
       "    <tr>\n",
       "      <th>18976</th>\n",
       "      <td>11313.967200</td>\n",
       "      <td>11310.000000</td>\n",
       "      <td>11310.270645</td>\n",
       "      <td>11310.0</td>\n",
       "      <td>5</td>\n",
       "      <td>21</td>\n",
       "      <td>2014</td>\n",
       "    </tr>\n",
       "    <tr>\n",
       "      <th>18977</th>\n",
       "      <td>11313.967200</td>\n",
       "      <td>11310.000000</td>\n",
       "      <td>11346.315789</td>\n",
       "      <td>11310.0</td>\n",
       "      <td>5</td>\n",
       "      <td>21</td>\n",
       "      <td>2014</td>\n",
       "    </tr>\n",
       "    <tr>\n",
       "      <th>18978</th>\n",
       "      <td>44531.160494</td>\n",
       "      <td>44012.307229</td>\n",
       "      <td>61575.070137</td>\n",
       "      <td>43999.0</td>\n",
       "      <td>12</td>\n",
       "      <td>17</td>\n",
       "      <td>2013</td>\n",
       "    </tr>\n",
       "    <tr>\n",
       "      <th>18979</th>\n",
       "      <td>60588.139335</td>\n",
       "      <td>60203.340426</td>\n",
       "      <td>61575.070137</td>\n",
       "      <td>44104.0</td>\n",
       "      <td>1</td>\n",
       "      <td>23</td>\n",
       "      <td>2013</td>\n",
       "    </tr>\n",
       "    <tr>\n",
       "      <th>18980</th>\n",
       "      <td>53368.428571</td>\n",
       "      <td>42407.562500</td>\n",
       "      <td>42565.513078</td>\n",
       "      <td>53568.0</td>\n",
       "      <td>10</td>\n",
       "      <td>15</td>\n",
       "      <td>1979</td>\n",
       "    </tr>\n",
       "  </tbody>\n",
       "</table>\n",
       "<p>18955 rows × 7 columns</p>\n",
       "</div>"
      ],
      "text/plain": [
       "           JobTitle      AgencyID        Agency  AnnualSalary  month  day  \\\n",
       "0      11313.967200  11310.000000  11310.270645       11310.0      6   10   \n",
       "1      47443.500000  46667.000000  51495.424242       53428.0     10   24   \n",
       "2      69750.666667  65926.133333  64874.560224       68300.0      9   25   \n",
       "3      57940.000000  48071.851064  39980.900360       62000.0      7   23   \n",
       "4      44531.160494  44012.307229  61575.070137       43999.0      7   24   \n",
       "...             ...           ...           ...           ...    ...  ...   \n",
       "18976  11313.967200  11310.000000  11310.270645       11310.0      5   21   \n",
       "18977  11313.967200  11310.000000  11346.315789       11310.0      5   21   \n",
       "18978  44531.160494  44012.307229  61575.070137       43999.0     12   17   \n",
       "18979  60588.139335  60203.340426  61575.070137       44104.0      1   23   \n",
       "18980  53368.428571  42407.562500  42565.513078       53568.0     10   15   \n",
       "\n",
       "       year  \n",
       "0      2013  \n",
       "1      1979  \n",
       "2      2006  \n",
       "3      2009  \n",
       "4      2013  \n",
       "...     ...  \n",
       "18976  2014  \n",
       "18977  2014  \n",
       "18978  2013  \n",
       "18979  2013  \n",
       "18980  1979  \n",
       "\n",
       "[18955 rows x 7 columns]"
      ]
     },
     "execution_count": 55,
     "metadata": {},
     "output_type": "execute_result"
    }
   ],
   "source": [
    "salary"
   ]
  },
  {
   "cell_type": "markdown",
   "id": "99b536be",
   "metadata": {},
   "source": [
    "# Feature Scaling"
   ]
  },
  {
   "cell_type": "raw",
   "id": "169bf6fc",
   "metadata": {},
   "source": [
    "feature scaling\n",
    "standardization or normalization\n",
    "standardization =  It ensure that a particular feature is scales in order to have 0 mean and 1 std. =  ( x- mean(column))/std(column)\n",
    "Normalization - between 0 and 1 = ( x- xmin)/xmax-xmin"
   ]
  },
  {
   "cell_type": "code",
   "execution_count": 56,
   "id": "d6b800ad",
   "metadata": {},
   "outputs": [],
   "source": [
    "salary_cpy = salary.copy()"
   ]
  },
  {
   "cell_type": "code",
   "execution_count": 57,
   "id": "1de04348",
   "metadata": {},
   "outputs": [],
   "source": [
    "from sklearn.preprocessing import StandardScaler\n",
    "data = StandardScaler()\n",
    "salary_cpy[salary_cpy.columns] = data.fit_transform(salary_cpy[salary_cpy.columns])"
   ]
  },
  {
   "cell_type": "markdown",
   "id": "677ccc05",
   "metadata": {},
   "source": [
    "# Train Test Split"
   ]
  },
  {
   "cell_type": "code",
   "execution_count": 58,
   "id": "e03ec0be",
   "metadata": {},
   "outputs": [],
   "source": [
    "from sklearn.model_selection import train_test_split\n",
    "train, test = train_test_split(salary_cpy,test_size=0.20,random_state=42)"
   ]
  },
  {
   "cell_type": "code",
   "execution_count": 59,
   "id": "09a92444",
   "metadata": {},
   "outputs": [
    {
     "data": {
      "text/html": [
       "<div>\n",
       "<style scoped>\n",
       "    .dataframe tbody tr th:only-of-type {\n",
       "        vertical-align: middle;\n",
       "    }\n",
       "\n",
       "    .dataframe tbody tr th {\n",
       "        vertical-align: top;\n",
       "    }\n",
       "\n",
       "    .dataframe thead th {\n",
       "        text-align: right;\n",
       "    }\n",
       "</style>\n",
       "<table border=\"1\" class=\"dataframe\">\n",
       "  <thead>\n",
       "    <tr style=\"text-align: right;\">\n",
       "      <th></th>\n",
       "      <th>JobTitle</th>\n",
       "      <th>AgencyID</th>\n",
       "      <th>Agency</th>\n",
       "      <th>AnnualSalary</th>\n",
       "      <th>month</th>\n",
       "      <th>day</th>\n",
       "      <th>year</th>\n",
       "    </tr>\n",
       "  </thead>\n",
       "  <tbody>\n",
       "    <tr>\n",
       "      <th>4139</th>\n",
       "      <td>-1.165848</td>\n",
       "      <td>-1.274022</td>\n",
       "      <td>-1.348898</td>\n",
       "      <td>-1.141755</td>\n",
       "      <td>-0.127520</td>\n",
       "      <td>0.389123</td>\n",
       "      <td>0.857453</td>\n",
       "    </tr>\n",
       "    <tr>\n",
       "      <th>3981</th>\n",
       "      <td>0.865765</td>\n",
       "      <td>0.617526</td>\n",
       "      <td>1.048643</td>\n",
       "      <td>1.040046</td>\n",
       "      <td>0.212014</td>\n",
       "      <td>0.627394</td>\n",
       "      <td>-0.587808</td>\n",
       "    </tr>\n",
       "    <tr>\n",
       "      <th>11051</th>\n",
       "      <td>0.383415</td>\n",
       "      <td>0.275895</td>\n",
       "      <td>0.599389</td>\n",
       "      <td>0.241870</td>\n",
       "      <td>0.891081</td>\n",
       "      <td>0.269987</td>\n",
       "      <td>0.182998</td>\n",
       "    </tr>\n",
       "    <tr>\n",
       "      <th>7851</th>\n",
       "      <td>-0.898054</td>\n",
       "      <td>-0.315000</td>\n",
       "      <td>0.017195</td>\n",
       "      <td>-0.989549</td>\n",
       "      <td>1.230615</td>\n",
       "      <td>-1.397915</td>\n",
       "      <td>-0.491458</td>\n",
       "    </tr>\n",
       "    <tr>\n",
       "      <th>5646</th>\n",
       "      <td>0.865765</td>\n",
       "      <td>0.728849</td>\n",
       "      <td>1.048643</td>\n",
       "      <td>0.675114</td>\n",
       "      <td>0.891081</td>\n",
       "      <td>1.580481</td>\n",
       "      <td>0.472050</td>\n",
       "    </tr>\n",
       "    <tr>\n",
       "      <th>...</th>\n",
       "      <td>...</td>\n",
       "      <td>...</td>\n",
       "      <td>...</td>\n",
       "      <td>...</td>\n",
       "      <td>...</td>\n",
       "      <td>...</td>\n",
       "      <td>...</td>\n",
       "    </tr>\n",
       "    <tr>\n",
       "      <th>11297</th>\n",
       "      <td>0.865765</td>\n",
       "      <td>1.028711</td>\n",
       "      <td>1.048643</td>\n",
       "      <td>0.848153</td>\n",
       "      <td>-0.467054</td>\n",
       "      <td>-0.802236</td>\n",
       "      <td>0.279349</td>\n",
       "    </tr>\n",
       "    <tr>\n",
       "      <th>11977</th>\n",
       "      <td>-1.165848</td>\n",
       "      <td>-1.274022</td>\n",
       "      <td>-1.348898</td>\n",
       "      <td>-1.141755</td>\n",
       "      <td>-0.127520</td>\n",
       "      <td>-0.683100</td>\n",
       "      <td>0.857453</td>\n",
       "    </tr>\n",
       "    <tr>\n",
       "      <th>5398</th>\n",
       "      <td>0.767932</td>\n",
       "      <td>1.481570</td>\n",
       "      <td>1.206022</td>\n",
       "      <td>0.794699</td>\n",
       "      <td>0.212014</td>\n",
       "      <td>-1.278779</td>\n",
       "      <td>-1.551316</td>\n",
       "    </tr>\n",
       "    <tr>\n",
       "      <th>861</th>\n",
       "      <td>0.330254</td>\n",
       "      <td>0.484298</td>\n",
       "      <td>0.018640</td>\n",
       "      <td>0.323383</td>\n",
       "      <td>-0.127520</td>\n",
       "      <td>-0.563964</td>\n",
       "      <td>0.761103</td>\n",
       "    </tr>\n",
       "    <tr>\n",
       "      <th>15815</th>\n",
       "      <td>0.667588</td>\n",
       "      <td>2.194233</td>\n",
       "      <td>0.567862</td>\n",
       "      <td>0.521615</td>\n",
       "      <td>-1.146121</td>\n",
       "      <td>0.269987</td>\n",
       "      <td>0.857453</td>\n",
       "    </tr>\n",
       "  </tbody>\n",
       "</table>\n",
       "<p>15164 rows × 7 columns</p>\n",
       "</div>"
      ],
      "text/plain": [
       "       JobTitle  AgencyID    Agency  AnnualSalary     month       day  \\\n",
       "4139  -1.165848 -1.274022 -1.348898     -1.141755 -0.127520  0.389123   \n",
       "3981   0.865765  0.617526  1.048643      1.040046  0.212014  0.627394   \n",
       "11051  0.383415  0.275895  0.599389      0.241870  0.891081  0.269987   \n",
       "7851  -0.898054 -0.315000  0.017195     -0.989549  1.230615 -1.397915   \n",
       "5646   0.865765  0.728849  1.048643      0.675114  0.891081  1.580481   \n",
       "...         ...       ...       ...           ...       ...       ...   \n",
       "11297  0.865765  1.028711  1.048643      0.848153 -0.467054 -0.802236   \n",
       "11977 -1.165848 -1.274022 -1.348898     -1.141755 -0.127520 -0.683100   \n",
       "5398   0.767932  1.481570  1.206022      0.794699  0.212014 -1.278779   \n",
       "861    0.330254  0.484298  0.018640      0.323383 -0.127520 -0.563964   \n",
       "15815  0.667588  2.194233  0.567862      0.521615 -1.146121  0.269987   \n",
       "\n",
       "           year  \n",
       "4139   0.857453  \n",
       "3981  -0.587808  \n",
       "11051  0.182998  \n",
       "7851  -0.491458  \n",
       "5646   0.472050  \n",
       "...         ...  \n",
       "11297  0.279349  \n",
       "11977  0.857453  \n",
       "5398  -1.551316  \n",
       "861    0.761103  \n",
       "15815  0.857453  \n",
       "\n",
       "[15164 rows x 7 columns]"
      ]
     },
     "execution_count": 59,
     "metadata": {},
     "output_type": "execute_result"
    }
   ],
   "source": [
    "train"
   ]
  },
  {
   "cell_type": "code",
   "execution_count": 60,
   "id": "64a5cc69",
   "metadata": {},
   "outputs": [
    {
     "data": {
      "text/html": [
       "<div>\n",
       "<style scoped>\n",
       "    .dataframe tbody tr th:only-of-type {\n",
       "        vertical-align: middle;\n",
       "    }\n",
       "\n",
       "    .dataframe tbody tr th {\n",
       "        vertical-align: top;\n",
       "    }\n",
       "\n",
       "    .dataframe thead th {\n",
       "        text-align: right;\n",
       "    }\n",
       "</style>\n",
       "<table border=\"1\" class=\"dataframe\">\n",
       "  <thead>\n",
       "    <tr style=\"text-align: right;\">\n",
       "      <th></th>\n",
       "      <th>JobTitle</th>\n",
       "      <th>AgencyID</th>\n",
       "      <th>Agency</th>\n",
       "      <th>AnnualSalary</th>\n",
       "      <th>month</th>\n",
       "      <th>day</th>\n",
       "      <th>year</th>\n",
       "    </tr>\n",
       "  </thead>\n",
       "  <tbody>\n",
       "    <tr>\n",
       "      <th>12254</th>\n",
       "      <td>0.865765</td>\n",
       "      <td>0.858291</td>\n",
       "      <td>1.048643</td>\n",
       "      <td>0.848153</td>\n",
       "      <td>-1.485655</td>\n",
       "      <td>-1.278779</td>\n",
       "      <td>0.279349</td>\n",
       "    </tr>\n",
       "    <tr>\n",
       "      <th>16780</th>\n",
       "      <td>-0.368871</td>\n",
       "      <td>0.053255</td>\n",
       "      <td>0.017195</td>\n",
       "      <td>-0.316933</td>\n",
       "      <td>-0.806587</td>\n",
       "      <td>1.223073</td>\n",
       "      <td>-0.009704</td>\n",
       "    </tr>\n",
       "    <tr>\n",
       "      <th>8258</th>\n",
       "      <td>-1.165848</td>\n",
       "      <td>-1.274022</td>\n",
       "      <td>-1.348898</td>\n",
       "      <td>-1.141755</td>\n",
       "      <td>-0.127520</td>\n",
       "      <td>-0.444828</td>\n",
       "      <td>0.761103</td>\n",
       "    </tr>\n",
       "    <tr>\n",
       "      <th>16229</th>\n",
       "      <td>-0.375926</td>\n",
       "      <td>-0.240673</td>\n",
       "      <td>-0.258411</td>\n",
       "      <td>-0.329570</td>\n",
       "      <td>-0.127520</td>\n",
       "      <td>1.699617</td>\n",
       "      <td>0.375699</td>\n",
       "    </tr>\n",
       "    <tr>\n",
       "      <th>14077</th>\n",
       "      <td>-0.742966</td>\n",
       "      <td>-0.363542</td>\n",
       "      <td>-0.270444</td>\n",
       "      <td>-0.758615</td>\n",
       "      <td>1.909682</td>\n",
       "      <td>-1.278779</td>\n",
       "      <td>0.761103</td>\n",
       "    </tr>\n",
       "    <tr>\n",
       "      <th>...</th>\n",
       "      <td>...</td>\n",
       "      <td>...</td>\n",
       "      <td>...</td>\n",
       "      <td>...</td>\n",
       "      <td>...</td>\n",
       "      <td>...</td>\n",
       "      <td>...</td>\n",
       "    </tr>\n",
       "    <tr>\n",
       "      <th>18746</th>\n",
       "      <td>0.103456</td>\n",
       "      <td>0.191539</td>\n",
       "      <td>0.141921</td>\n",
       "      <td>0.166332</td>\n",
       "      <td>-1.825188</td>\n",
       "      <td>0.627394</td>\n",
       "      <td>-1.840368</td>\n",
       "    </tr>\n",
       "    <tr>\n",
       "      <th>16795</th>\n",
       "      <td>-1.165848</td>\n",
       "      <td>-1.274022</td>\n",
       "      <td>-1.347179</td>\n",
       "      <td>-1.141755</td>\n",
       "      <td>-0.467054</td>\n",
       "      <td>0.627394</td>\n",
       "      <td>0.953804</td>\n",
       "    </tr>\n",
       "    <tr>\n",
       "      <th>9339</th>\n",
       "      <td>-1.429965</td>\n",
       "      <td>-1.541966</td>\n",
       "      <td>0.018640</td>\n",
       "      <td>-1.413627</td>\n",
       "      <td>-0.127520</td>\n",
       "      <td>0.865666</td>\n",
       "      <td>0.953804</td>\n",
       "    </tr>\n",
       "    <tr>\n",
       "      <th>9369</th>\n",
       "      <td>-1.165848</td>\n",
       "      <td>-1.274022</td>\n",
       "      <td>-1.348898</td>\n",
       "      <td>-1.141755</td>\n",
       "      <td>-0.127520</td>\n",
       "      <td>-0.444828</td>\n",
       "      <td>0.761103</td>\n",
       "    </tr>\n",
       "    <tr>\n",
       "      <th>15863</th>\n",
       "      <td>-1.210982</td>\n",
       "      <td>-1.320782</td>\n",
       "      <td>-1.400209</td>\n",
       "      <td>-1.156653</td>\n",
       "      <td>-1.485655</td>\n",
       "      <td>0.746530</td>\n",
       "      <td>-1.069562</td>\n",
       "    </tr>\n",
       "  </tbody>\n",
       "</table>\n",
       "<p>3791 rows × 7 columns</p>\n",
       "</div>"
      ],
      "text/plain": [
       "       JobTitle  AgencyID    Agency  AnnualSalary     month       day  \\\n",
       "12254  0.865765  0.858291  1.048643      0.848153 -1.485655 -1.278779   \n",
       "16780 -0.368871  0.053255  0.017195     -0.316933 -0.806587  1.223073   \n",
       "8258  -1.165848 -1.274022 -1.348898     -1.141755 -0.127520 -0.444828   \n",
       "16229 -0.375926 -0.240673 -0.258411     -0.329570 -0.127520  1.699617   \n",
       "14077 -0.742966 -0.363542 -0.270444     -0.758615  1.909682 -1.278779   \n",
       "...         ...       ...       ...           ...       ...       ...   \n",
       "18746  0.103456  0.191539  0.141921      0.166332 -1.825188  0.627394   \n",
       "16795 -1.165848 -1.274022 -1.347179     -1.141755 -0.467054  0.627394   \n",
       "9339  -1.429965 -1.541966  0.018640     -1.413627 -0.127520  0.865666   \n",
       "9369  -1.165848 -1.274022 -1.348898     -1.141755 -0.127520 -0.444828   \n",
       "15863 -1.210982 -1.320782 -1.400209     -1.156653 -1.485655  0.746530   \n",
       "\n",
       "           year  \n",
       "12254  0.279349  \n",
       "16780 -0.009704  \n",
       "8258   0.761103  \n",
       "16229  0.375699  \n",
       "14077  0.761103  \n",
       "...         ...  \n",
       "18746 -1.840368  \n",
       "16795  0.953804  \n",
       "9339   0.953804  \n",
       "9369   0.761103  \n",
       "15863 -1.069562  \n",
       "\n",
       "[3791 rows x 7 columns]"
      ]
     },
     "execution_count": 60,
     "metadata": {},
     "output_type": "execute_result"
    }
   ],
   "source": [
    "test"
   ]
  },
  {
   "cell_type": "code",
   "execution_count": 61,
   "id": "e8be10e3",
   "metadata": {},
   "outputs": [
    {
     "data": {
      "text/html": [
       "<div>\n",
       "<style scoped>\n",
       "    .dataframe tbody tr th:only-of-type {\n",
       "        vertical-align: middle;\n",
       "    }\n",
       "\n",
       "    .dataframe tbody tr th {\n",
       "        vertical-align: top;\n",
       "    }\n",
       "\n",
       "    .dataframe thead th {\n",
       "        text-align: right;\n",
       "    }\n",
       "</style>\n",
       "<table border=\"1\" class=\"dataframe\">\n",
       "  <thead>\n",
       "    <tr style=\"text-align: right;\">\n",
       "      <th></th>\n",
       "      <th>JobTitle</th>\n",
       "      <th>AgencyID</th>\n",
       "      <th>Agency</th>\n",
       "      <th>AnnualSalary</th>\n",
       "      <th>month</th>\n",
       "      <th>day</th>\n",
       "      <th>year</th>\n",
       "    </tr>\n",
       "  </thead>\n",
       "  <tbody>\n",
       "    <tr>\n",
       "      <th>0</th>\n",
       "      <td>11313.967200</td>\n",
       "      <td>11310.000000</td>\n",
       "      <td>11310.270645</td>\n",
       "      <td>11310.0</td>\n",
       "      <td>6</td>\n",
       "      <td>10</td>\n",
       "      <td>2013</td>\n",
       "    </tr>\n",
       "    <tr>\n",
       "      <th>1</th>\n",
       "      <td>47443.500000</td>\n",
       "      <td>46667.000000</td>\n",
       "      <td>51495.424242</td>\n",
       "      <td>53428.0</td>\n",
       "      <td>10</td>\n",
       "      <td>24</td>\n",
       "      <td>1979</td>\n",
       "    </tr>\n",
       "    <tr>\n",
       "      <th>2</th>\n",
       "      <td>69750.666667</td>\n",
       "      <td>65926.133333</td>\n",
       "      <td>64874.560224</td>\n",
       "      <td>68300.0</td>\n",
       "      <td>9</td>\n",
       "      <td>25</td>\n",
       "      <td>2006</td>\n",
       "    </tr>\n",
       "    <tr>\n",
       "      <th>3</th>\n",
       "      <td>57940.000000</td>\n",
       "      <td>48071.851064</td>\n",
       "      <td>39980.900360</td>\n",
       "      <td>62000.0</td>\n",
       "      <td>7</td>\n",
       "      <td>23</td>\n",
       "      <td>2009</td>\n",
       "    </tr>\n",
       "    <tr>\n",
       "      <th>4</th>\n",
       "      <td>44531.160494</td>\n",
       "      <td>44012.307229</td>\n",
       "      <td>61575.070137</td>\n",
       "      <td>43999.0</td>\n",
       "      <td>7</td>\n",
       "      <td>24</td>\n",
       "      <td>2013</td>\n",
       "    </tr>\n",
       "    <tr>\n",
       "      <th>...</th>\n",
       "      <td>...</td>\n",
       "      <td>...</td>\n",
       "      <td>...</td>\n",
       "      <td>...</td>\n",
       "      <td>...</td>\n",
       "      <td>...</td>\n",
       "      <td>...</td>\n",
       "    </tr>\n",
       "    <tr>\n",
       "      <th>18976</th>\n",
       "      <td>11313.967200</td>\n",
       "      <td>11310.000000</td>\n",
       "      <td>11310.270645</td>\n",
       "      <td>11310.0</td>\n",
       "      <td>5</td>\n",
       "      <td>21</td>\n",
       "      <td>2014</td>\n",
       "    </tr>\n",
       "    <tr>\n",
       "      <th>18977</th>\n",
       "      <td>11313.967200</td>\n",
       "      <td>11310.000000</td>\n",
       "      <td>11346.315789</td>\n",
       "      <td>11310.0</td>\n",
       "      <td>5</td>\n",
       "      <td>21</td>\n",
       "      <td>2014</td>\n",
       "    </tr>\n",
       "    <tr>\n",
       "      <th>18978</th>\n",
       "      <td>44531.160494</td>\n",
       "      <td>44012.307229</td>\n",
       "      <td>61575.070137</td>\n",
       "      <td>43999.0</td>\n",
       "      <td>12</td>\n",
       "      <td>17</td>\n",
       "      <td>2013</td>\n",
       "    </tr>\n",
       "    <tr>\n",
       "      <th>18979</th>\n",
       "      <td>60588.139335</td>\n",
       "      <td>60203.340426</td>\n",
       "      <td>61575.070137</td>\n",
       "      <td>44104.0</td>\n",
       "      <td>1</td>\n",
       "      <td>23</td>\n",
       "      <td>2013</td>\n",
       "    </tr>\n",
       "    <tr>\n",
       "      <th>18980</th>\n",
       "      <td>53368.428571</td>\n",
       "      <td>42407.562500</td>\n",
       "      <td>42565.513078</td>\n",
       "      <td>53568.0</td>\n",
       "      <td>10</td>\n",
       "      <td>15</td>\n",
       "      <td>1979</td>\n",
       "    </tr>\n",
       "  </tbody>\n",
       "</table>\n",
       "<p>18955 rows × 7 columns</p>\n",
       "</div>"
      ],
      "text/plain": [
       "           JobTitle      AgencyID        Agency  AnnualSalary  month  day  \\\n",
       "0      11313.967200  11310.000000  11310.270645       11310.0      6   10   \n",
       "1      47443.500000  46667.000000  51495.424242       53428.0     10   24   \n",
       "2      69750.666667  65926.133333  64874.560224       68300.0      9   25   \n",
       "3      57940.000000  48071.851064  39980.900360       62000.0      7   23   \n",
       "4      44531.160494  44012.307229  61575.070137       43999.0      7   24   \n",
       "...             ...           ...           ...           ...    ...  ...   \n",
       "18976  11313.967200  11310.000000  11310.270645       11310.0      5   21   \n",
       "18977  11313.967200  11310.000000  11346.315789       11310.0      5   21   \n",
       "18978  44531.160494  44012.307229  61575.070137       43999.0     12   17   \n",
       "18979  60588.139335  60203.340426  61575.070137       44104.0      1   23   \n",
       "18980  53368.428571  42407.562500  42565.513078       53568.0     10   15   \n",
       "\n",
       "       year  \n",
       "0      2013  \n",
       "1      1979  \n",
       "2      2006  \n",
       "3      2009  \n",
       "4      2013  \n",
       "...     ...  \n",
       "18976  2014  \n",
       "18977  2014  \n",
       "18978  2013  \n",
       "18979  2013  \n",
       "18980  1979  \n",
       "\n",
       "[18955 rows x 7 columns]"
      ]
     },
     "execution_count": 61,
     "metadata": {},
     "output_type": "execute_result"
    }
   ],
   "source": [
    "salary"
   ]
  },
  {
   "cell_type": "code",
   "execution_count": 62,
   "id": "1d6dedd7",
   "metadata": {},
   "outputs": [],
   "source": [
    "y_train = train.pop('AnnualSalary')\n",
    "x_train = train"
   ]
  },
  {
   "cell_type": "code",
   "execution_count": 63,
   "id": "9ea9163f",
   "metadata": {},
   "outputs": [],
   "source": [
    "y_test = test.pop('AnnualSalary')\n",
    "x_test = test"
   ]
  },
  {
   "cell_type": "code",
   "execution_count": 64,
   "id": "1b962cd1",
   "metadata": {},
   "outputs": [
    {
     "data": {
      "text/html": [
       "<div>\n",
       "<style scoped>\n",
       "    .dataframe tbody tr th:only-of-type {\n",
       "        vertical-align: middle;\n",
       "    }\n",
       "\n",
       "    .dataframe tbody tr th {\n",
       "        vertical-align: top;\n",
       "    }\n",
       "\n",
       "    .dataframe thead th {\n",
       "        text-align: right;\n",
       "    }\n",
       "</style>\n",
       "<table border=\"1\" class=\"dataframe\">\n",
       "  <thead>\n",
       "    <tr style=\"text-align: right;\">\n",
       "      <th></th>\n",
       "      <th>JobTitle</th>\n",
       "      <th>AgencyID</th>\n",
       "      <th>Agency</th>\n",
       "      <th>month</th>\n",
       "      <th>day</th>\n",
       "      <th>year</th>\n",
       "    </tr>\n",
       "  </thead>\n",
       "  <tbody>\n",
       "    <tr>\n",
       "      <th>12254</th>\n",
       "      <td>0.865765</td>\n",
       "      <td>0.858291</td>\n",
       "      <td>1.048643</td>\n",
       "      <td>-1.485655</td>\n",
       "      <td>-1.278779</td>\n",
       "      <td>0.279349</td>\n",
       "    </tr>\n",
       "    <tr>\n",
       "      <th>16780</th>\n",
       "      <td>-0.368871</td>\n",
       "      <td>0.053255</td>\n",
       "      <td>0.017195</td>\n",
       "      <td>-0.806587</td>\n",
       "      <td>1.223073</td>\n",
       "      <td>-0.009704</td>\n",
       "    </tr>\n",
       "    <tr>\n",
       "      <th>8258</th>\n",
       "      <td>-1.165848</td>\n",
       "      <td>-1.274022</td>\n",
       "      <td>-1.348898</td>\n",
       "      <td>-0.127520</td>\n",
       "      <td>-0.444828</td>\n",
       "      <td>0.761103</td>\n",
       "    </tr>\n",
       "    <tr>\n",
       "      <th>16229</th>\n",
       "      <td>-0.375926</td>\n",
       "      <td>-0.240673</td>\n",
       "      <td>-0.258411</td>\n",
       "      <td>-0.127520</td>\n",
       "      <td>1.699617</td>\n",
       "      <td>0.375699</td>\n",
       "    </tr>\n",
       "    <tr>\n",
       "      <th>14077</th>\n",
       "      <td>-0.742966</td>\n",
       "      <td>-0.363542</td>\n",
       "      <td>-0.270444</td>\n",
       "      <td>1.909682</td>\n",
       "      <td>-1.278779</td>\n",
       "      <td>0.761103</td>\n",
       "    </tr>\n",
       "    <tr>\n",
       "      <th>...</th>\n",
       "      <td>...</td>\n",
       "      <td>...</td>\n",
       "      <td>...</td>\n",
       "      <td>...</td>\n",
       "      <td>...</td>\n",
       "      <td>...</td>\n",
       "    </tr>\n",
       "    <tr>\n",
       "      <th>18746</th>\n",
       "      <td>0.103456</td>\n",
       "      <td>0.191539</td>\n",
       "      <td>0.141921</td>\n",
       "      <td>-1.825188</td>\n",
       "      <td>0.627394</td>\n",
       "      <td>-1.840368</td>\n",
       "    </tr>\n",
       "    <tr>\n",
       "      <th>16795</th>\n",
       "      <td>-1.165848</td>\n",
       "      <td>-1.274022</td>\n",
       "      <td>-1.347179</td>\n",
       "      <td>-0.467054</td>\n",
       "      <td>0.627394</td>\n",
       "      <td>0.953804</td>\n",
       "    </tr>\n",
       "    <tr>\n",
       "      <th>9339</th>\n",
       "      <td>-1.429965</td>\n",
       "      <td>-1.541966</td>\n",
       "      <td>0.018640</td>\n",
       "      <td>-0.127520</td>\n",
       "      <td>0.865666</td>\n",
       "      <td>0.953804</td>\n",
       "    </tr>\n",
       "    <tr>\n",
       "      <th>9369</th>\n",
       "      <td>-1.165848</td>\n",
       "      <td>-1.274022</td>\n",
       "      <td>-1.348898</td>\n",
       "      <td>-0.127520</td>\n",
       "      <td>-0.444828</td>\n",
       "      <td>0.761103</td>\n",
       "    </tr>\n",
       "    <tr>\n",
       "      <th>15863</th>\n",
       "      <td>-1.210982</td>\n",
       "      <td>-1.320782</td>\n",
       "      <td>-1.400209</td>\n",
       "      <td>-1.485655</td>\n",
       "      <td>0.746530</td>\n",
       "      <td>-1.069562</td>\n",
       "    </tr>\n",
       "  </tbody>\n",
       "</table>\n",
       "<p>3791 rows × 6 columns</p>\n",
       "</div>"
      ],
      "text/plain": [
       "       JobTitle  AgencyID    Agency     month       day      year\n",
       "12254  0.865765  0.858291  1.048643 -1.485655 -1.278779  0.279349\n",
       "16780 -0.368871  0.053255  0.017195 -0.806587  1.223073 -0.009704\n",
       "8258  -1.165848 -1.274022 -1.348898 -0.127520 -0.444828  0.761103\n",
       "16229 -0.375926 -0.240673 -0.258411 -0.127520  1.699617  0.375699\n",
       "14077 -0.742966 -0.363542 -0.270444  1.909682 -1.278779  0.761103\n",
       "...         ...       ...       ...       ...       ...       ...\n",
       "18746  0.103456  0.191539  0.141921 -1.825188  0.627394 -1.840368\n",
       "16795 -1.165848 -1.274022 -1.347179 -0.467054  0.627394  0.953804\n",
       "9339  -1.429965 -1.541966  0.018640 -0.127520  0.865666  0.953804\n",
       "9369  -1.165848 -1.274022 -1.348898 -0.127520 -0.444828  0.761103\n",
       "15863 -1.210982 -1.320782 -1.400209 -1.485655  0.746530 -1.069562\n",
       "\n",
       "[3791 rows x 6 columns]"
      ]
     },
     "execution_count": 64,
     "metadata": {},
     "output_type": "execute_result"
    }
   ],
   "source": [
    "x_test"
   ]
  },
  {
   "cell_type": "markdown",
   "id": "6730c63b",
   "metadata": {},
   "source": [
    "# Model Building"
   ]
  },
  {
   "cell_type": "code",
   "execution_count": 65,
   "id": "c5d4ef3e",
   "metadata": {},
   "outputs": [],
   "source": [
    "#### model building\n",
    "from sklearn.linear_model import LinearRegression"
   ]
  },
  {
   "cell_type": "code",
   "execution_count": 66,
   "id": "5b43512c",
   "metadata": {},
   "outputs": [],
   "source": [
    "lr = LinearRegression()"
   ]
  },
  {
   "cell_type": "code",
   "execution_count": 67,
   "id": "56b894f3",
   "metadata": {},
   "outputs": [
    {
     "data": {
      "text/html": [
       "<style>#sk-container-id-1 {color: black;background-color: white;}#sk-container-id-1 pre{padding: 0;}#sk-container-id-1 div.sk-toggleable {background-color: white;}#sk-container-id-1 label.sk-toggleable__label {cursor: pointer;display: block;width: 100%;margin-bottom: 0;padding: 0.3em;box-sizing: border-box;text-align: center;}#sk-container-id-1 label.sk-toggleable__label-arrow:before {content: \"▸\";float: left;margin-right: 0.25em;color: #696969;}#sk-container-id-1 label.sk-toggleable__label-arrow:hover:before {color: black;}#sk-container-id-1 div.sk-estimator:hover label.sk-toggleable__label-arrow:before {color: black;}#sk-container-id-1 div.sk-toggleable__content {max-height: 0;max-width: 0;overflow: hidden;text-align: left;background-color: #f0f8ff;}#sk-container-id-1 div.sk-toggleable__content pre {margin: 0.2em;color: black;border-radius: 0.25em;background-color: #f0f8ff;}#sk-container-id-1 input.sk-toggleable__control:checked~div.sk-toggleable__content {max-height: 200px;max-width: 100%;overflow: auto;}#sk-container-id-1 input.sk-toggleable__control:checked~label.sk-toggleable__label-arrow:before {content: \"▾\";}#sk-container-id-1 div.sk-estimator input.sk-toggleable__control:checked~label.sk-toggleable__label {background-color: #d4ebff;}#sk-container-id-1 div.sk-label input.sk-toggleable__control:checked~label.sk-toggleable__label {background-color: #d4ebff;}#sk-container-id-1 input.sk-hidden--visually {border: 0;clip: rect(1px 1px 1px 1px);clip: rect(1px, 1px, 1px, 1px);height: 1px;margin: -1px;overflow: hidden;padding: 0;position: absolute;width: 1px;}#sk-container-id-1 div.sk-estimator {font-family: monospace;background-color: #f0f8ff;border: 1px dotted black;border-radius: 0.25em;box-sizing: border-box;margin-bottom: 0.5em;}#sk-container-id-1 div.sk-estimator:hover {background-color: #d4ebff;}#sk-container-id-1 div.sk-parallel-item::after {content: \"\";width: 100%;border-bottom: 1px solid gray;flex-grow: 1;}#sk-container-id-1 div.sk-label:hover label.sk-toggleable__label {background-color: #d4ebff;}#sk-container-id-1 div.sk-serial::before {content: \"\";position: absolute;border-left: 1px solid gray;box-sizing: border-box;top: 0;bottom: 0;left: 50%;z-index: 0;}#sk-container-id-1 div.sk-serial {display: flex;flex-direction: column;align-items: center;background-color: white;padding-right: 0.2em;padding-left: 0.2em;position: relative;}#sk-container-id-1 div.sk-item {position: relative;z-index: 1;}#sk-container-id-1 div.sk-parallel {display: flex;align-items: stretch;justify-content: center;background-color: white;position: relative;}#sk-container-id-1 div.sk-item::before, #sk-container-id-1 div.sk-parallel-item::before {content: \"\";position: absolute;border-left: 1px solid gray;box-sizing: border-box;top: 0;bottom: 0;left: 50%;z-index: -1;}#sk-container-id-1 div.sk-parallel-item {display: flex;flex-direction: column;z-index: 1;position: relative;background-color: white;}#sk-container-id-1 div.sk-parallel-item:first-child::after {align-self: flex-end;width: 50%;}#sk-container-id-1 div.sk-parallel-item:last-child::after {align-self: flex-start;width: 50%;}#sk-container-id-1 div.sk-parallel-item:only-child::after {width: 0;}#sk-container-id-1 div.sk-dashed-wrapped {border: 1px dashed gray;margin: 0 0.4em 0.5em 0.4em;box-sizing: border-box;padding-bottom: 0.4em;background-color: white;}#sk-container-id-1 div.sk-label label {font-family: monospace;font-weight: bold;display: inline-block;line-height: 1.2em;}#sk-container-id-1 div.sk-label-container {text-align: center;}#sk-container-id-1 div.sk-container {/* jupyter's `normalize.less` sets `[hidden] { display: none; }` but bootstrap.min.css set `[hidden] { display: none !important; }` so we also need the `!important` here to be able to override the default hidden behavior on the sphinx rendered scikit-learn.org. See: https://github.com/scikit-learn/scikit-learn/issues/21755 */display: inline-block !important;position: relative;}#sk-container-id-1 div.sk-text-repr-fallback {display: none;}</style><div id=\"sk-container-id-1\" class=\"sk-top-container\"><div class=\"sk-text-repr-fallback\"><pre>LinearRegression()</pre><b>In a Jupyter environment, please rerun this cell to show the HTML representation or trust the notebook. <br />On GitHub, the HTML representation is unable to render, please try loading this page with nbviewer.org.</b></div><div class=\"sk-container\" hidden><div class=\"sk-item\"><div class=\"sk-estimator sk-toggleable\"><input class=\"sk-toggleable__control sk-hidden--visually\" id=\"sk-estimator-id-1\" type=\"checkbox\" checked><label for=\"sk-estimator-id-1\" class=\"sk-toggleable__label sk-toggleable__label-arrow\">LinearRegression</label><div class=\"sk-toggleable__content\"><pre>LinearRegression()</pre></div></div></div></div></div>"
      ],
      "text/plain": [
       "LinearRegression()"
      ]
     },
     "execution_count": 67,
     "metadata": {},
     "output_type": "execute_result"
    }
   ],
   "source": [
    "lr.fit(x_train,y_train)"
   ]
  },
  {
   "cell_type": "markdown",
   "id": "ce1079e1",
   "metadata": {},
   "source": [
    "# Prediction"
   ]
  },
  {
   "cell_type": "code",
   "execution_count": 68,
   "id": "2ad2780c",
   "metadata": {},
   "outputs": [],
   "source": [
    "y_pred = lr.predict(x_test)"
   ]
  },
  {
   "cell_type": "code",
   "execution_count": 69,
   "id": "75da6808",
   "metadata": {},
   "outputs": [
    {
     "data": {
      "text/plain": [
       "array([ 0.7807824 , -0.32602201, -1.15633339, ..., -1.53767345,\n",
       "       -1.15633339, -1.03977512])"
      ]
     },
     "execution_count": 69,
     "metadata": {},
     "output_type": "execute_result"
    }
   ],
   "source": [
    "y_pred"
   ]
  },
  {
   "cell_type": "code",
   "execution_count": 70,
   "id": "40b2a79c",
   "metadata": {},
   "outputs": [
    {
     "data": {
      "text/plain": [
       "12254    0.848153\n",
       "16780   -0.316933\n",
       "8258    -1.141755\n",
       "16229   -0.329570\n",
       "14077   -0.758615\n",
       "           ...   \n",
       "18746    0.166332\n",
       "16795   -1.141755\n",
       "9339    -1.413627\n",
       "9369    -1.141755\n",
       "15863   -1.156653\n",
       "Name: AnnualSalary, Length: 3791, dtype: float64"
      ]
     },
     "execution_count": 70,
     "metadata": {},
     "output_type": "execute_result"
    }
   ],
   "source": [
    "y_test"
   ]
  },
  {
   "cell_type": "markdown",
   "id": "b5bb0120",
   "metadata": {},
   "source": [
    "# Testing accuracy"
   ]
  },
  {
   "cell_type": "code",
   "execution_count": 71,
   "id": "fba942a4",
   "metadata": {},
   "outputs": [
    {
     "data": {
      "text/plain": [
       "0.0374923494849871"
      ]
     },
     "execution_count": 71,
     "metadata": {},
     "output_type": "execute_result"
    }
   ],
   "source": [
    "from sklearn.metrics import mean_squared_error,r2_score\n",
    "mean_squared_error(y_test,y_pred)"
   ]
  },
  {
   "cell_type": "code",
   "execution_count": 72,
   "id": "a7ebd190",
   "metadata": {},
   "outputs": [
    {
     "data": {
      "text/plain": [
       "0.9624833294909726"
      ]
     },
     "execution_count": 72,
     "metadata": {},
     "output_type": "execute_result"
    }
   ],
   "source": [
    "r2_score(y_test,y_pred)"
   ]
  }
 ],
 "metadata": {
  "kernelspec": {
   "display_name": "Python 3",
   "language": "python",
   "name": "python3"
  },
  "language_info": {
   "codemirror_mode": {
    "name": "ipython",
    "version": 3
   },
   "file_extension": ".py",
   "mimetype": "text/x-python",
   "name": "python",
   "nbconvert_exporter": "python",
   "pygments_lexer": "ipython3",
   "version": "3.9.4"
  }
 },
 "nbformat": 4,
 "nbformat_minor": 5
}
